{
 "cells": [
  {
   "cell_type": "markdown",
   "metadata": {},
   "source": [
    "# Predicting TV Show Success\n",
    "\n",
    "## Notes\n",
    "- Shonda Rhimes predictive superpower\n",
    "\n",
    "- The problem statement\n",
    "    - Find out which of the IVs/combination of IVs contributes the most to a shows success\n",
    "    - Using this information after the pilot can you determine whether or not a show will be sucessful \n",
    "    - Using this information before the pilot can you determine whether or not a show will be sucessful \n",
    "\n",
    "- Possible independent variables:\n",
    "    - producers/creators\n",
    "    - network\n",
    "    - viewer ratings\n",
    "    - genre\n",
    "    - air times (frequency and time of day)\n",
    "    - actors\n",
    "    - plot key words\n",
    "    - certificate\n",
    "    - runtime\n",
    "    \n",
    "- Operational definition of TV show success?"
   ]
  },
  {
   "cell_type": "code",
   "execution_count": 37,
   "metadata": {
    "collapsed": true
   },
   "outputs": [],
   "source": [
    "TITLE=[]\n",
    "GENRE=[]\n",
    "CREATED_BY=[]\n",
    "STARRING=[]\n",
    "NETWORK=[]\n",
    "RELEASE=[]\n",
    "RUNNING_TIME=[]\n",
    "NUM_SEASONS=[]\n",
    "NUM_EPISODES=[]\n",
    "\n",
    "DATABASE = {'title':TITLE, 'genre':GENRE, 'created_by':CREATED_BY, 'starring':STARRING, 'network':NETWORK, 'release':RELEASE, 'running_time':RUNNING_TIME, 'num_seasons':NUM_SEASONS, 'num_episodes':NUM_EPISODES}\n",
    "\n",
    "TABLE_COLUMNS = ['title', 'genre', 'created_by', 'starring', 'network', 'release', 'running_time', 'num_seasons', 'num_episodes']\n",
    "\n",
    "TABLE_NAME = 'shows.csv'"
   ]
  },
  {
   "cell_type": "code",
   "execution_count": 38,
   "metadata": {
    "collapsed": false
   },
   "outputs": [],
   "source": [
    "#Collect a list of Wikipedia links to all American TV shows\n",
    "\n",
    "from bs4 import BeautifulSoup as soup\n",
    "import pandas as pd\n",
    "import re\n",
    "from urllib import request\n",
    " \n",
    "def soupTheLink(url):\n",
    "    html = request.urlopen(url).read().decode('utf8')\n",
    "    return soup(html, 'lxml')\n",
    "\n",
    "def collectLinks(url):\n",
    "    souped = soupTheLink(url)\n",
    "    \n",
    "    showLinks = []\n",
    "    \n",
    "    for listItem in souped.find_all('li'):\n",
    "        link = listItem.find('a', href = True)\n",
    "        try:\n",
    "            fullLink = 'https://en.wikipedia.org' + link['href']\n",
    "            showLinks.append(fullLink)\n",
    "        except TypeError:\n",
    "            pass\n",
    "    showLinks = showLinks[28:2282]\n",
    "    return showLinks\n",
    "\n",
    "def compileData(listOfShowLinks):\n",
    "    \n",
    "    shows = [url[30:] for url in listOfShowLinks]\n",
    "    DATABASE['title'].extend(shows)\n",
    "    \n",
    "    for url in listOfShowLinks[:5]:\n",
    "        \n",
    "        souped = soupTheLink(url)\n",
    "            \n",
    "        for table in souped.find_all(class_='infobox'):\n",
    "             \n",
    "            has_genre = 0\n",
    "            has_created_by = 0\n",
    "            has_starring = 0\n",
    "            has_network = 0\n",
    "            has_release = 0\n",
    "            has_running_time = 0\n",
    "            has_num_seasons = 0\n",
    "            has_num_episodes = 0\n",
    "                \n",
    "            for row in table.find_all('tr'):\n",
    "                    \n",
    "                for category in row.find_all('th'):\n",
    "                    feature = category.contents\n",
    "                    print('feature = ', feature)\n",
    "\n",
    "                    if feature == ['Genre']:\n",
    "                        has_genre = 1\n",
    "                        \n",
    "                        rowContent = []\n",
    "                        \n",
    "                        for info in row.find_all('td'):\n",
    "                            for genre in info.find_all('a'):\n",
    "                                rowContent.extend(genre.contents)\n",
    "                        print('Genre: ', rowContent)\n",
    "\n",
    "                        DATABASE['genre'].append(rowContent)\n",
    "\n",
    "                    elif feature == ['Created by'] or feature == ['Written by']:\n",
    "                        has_created_by = 1\n",
    "                        \n",
    "                        rowContent = []\n",
    "\n",
    "                        for info in row.find_all('td'):\n",
    "                            creators = []\n",
    "\n",
    "                            if len(info) == 1:\n",
    "                                creators.extend(info.contents)\n",
    "                            else:\n",
    "                                for creator in info.find_all('a'):\n",
    "                                    name = str(creator.contents)\n",
    "                                    if name[2] != '[':\n",
    "                                        creators.extend(creator.contents)\n",
    "                            rowContent.extend(creators)\n",
    "                        print('Created by: ', rowContent)\n",
    "\n",
    "                        DATABASE['created_by'].append(rowContent)\n",
    "\n",
    "                    elif feature == ['Starring']:\n",
    "                        has_starring = 1\n",
    "                        \n",
    "                        rowContent = []\n",
    "\n",
    "                        for info in row.find_all('td'):\n",
    "                            \n",
    "                            if len(info) == 1:\n",
    "                                rowContent.extend(info.contents)\n",
    "                                \n",
    "                            else:\n",
    "                                for stars in info.find_all('a'):\n",
    "                                    rowContent.extend(stars.contents)\n",
    "                            \n",
    "                        print('Starring: ', rowContent)\n",
    "                            \n",
    "                        DATABASE['starring'].append(rowContent)\n",
    "\n",
    "                    elif feature == ['Original network']:\n",
    "                        has_network = 1\n",
    "                        \n",
    "                        rowContent = []\n",
    "                        \n",
    "                        for info in row.find_all('td'):\n",
    "                            for network in info.find_all('a'):\n",
    "                                rowContent.extend(network.contents)\n",
    "                        print('Network: ', rowContent)\n",
    "\n",
    "                        DATABASE['network'].append(rowContent)\n",
    "\n",
    "                    elif feature == ['Original release']:\n",
    "                        has_release = 1\n",
    "\n",
    "                        for info in row.find_all('td'):\n",
    "                            rowContent = info.contents\n",
    "                            print('Original release: ', rowContent)\n",
    "                            \n",
    "                            if type(rowContent[0]) != str:\n",
    "                                rowContent = rowContent[2]\n",
    "                            else:\n",
    "                                rowContent = rowContent[0]\n",
    "                            \n",
    "                            DATABASE['release'].append(rowContent)\n",
    "                    \n",
    "                    elif feature == ['Running time']:\n",
    "                        has_running_time = 1\n",
    "                        \n",
    "                        rowContent = []\n",
    "\n",
    "                        for info in row.find_all('td'):\n",
    "                            rowContent = info.contents\n",
    "                            print('Running time: ', rowContent)\n",
    "                            \n",
    "                            rowContent = rowContent[0]\n",
    "                            rowContent = rowContent[0:2]\n",
    "                            \n",
    "                            DATABASE['running_time'].append(rowContent)\n",
    "\n",
    "                    elif feature[-1] == ' of seasons':\n",
    "                        has_num_seasons = 1\n",
    "\n",
    "                        for info in row.find_all('td'):\n",
    "                            rowContent = info.contents[0]\n",
    "                            print('seasons: ', rowContent)\n",
    "                            \n",
    "                            DATABASE['num_seasons'].append(rowContent)\n",
    "\n",
    "                    elif feature[-1] == ' of episodes':\n",
    "                        has_num_episodes = 1\n",
    "\n",
    "                        for info in row.find_all('td'):\n",
    "                            rowContent = info.contents[0]\n",
    "                            print('episodes:', rowContent)\n",
    "                            DATABASE['num_episodes'].append(rowContent)\n",
    "                            \n",
    "\n",
    "                    else:\n",
    "                        continue\n",
    "\n",
    "            if has_genre == 0:\n",
    "                DATABASE['genre'].append(\"None\")\n",
    "            if has_created_by == 0:\n",
    "                DATABASE['created_by'].append(\"None\")\n",
    "            if has_starring == 0:\n",
    "                DATABASE['starring'].append(\"None\")\n",
    "            if has_network == 0:\n",
    "                DATABASE['network'].append(\"None\")\n",
    "            if has_release == 0:\n",
    "                DATABASE['release'].append(\"None\")\n",
    "            if has_running_time == 0:\n",
    "                DATABASE['running_time'].append(\"None\")\n",
    "            if has_num_seasons == 0:\n",
    "                DATABASE['num_seasons'].append(\"None\")\n",
    "            if has_num_episodes == 0:\n",
    "                DATABASE['num_episodes'].append(\"None\")"
   ]
  },
  {
   "cell_type": "code",
   "execution_count": 3,
   "metadata": {
    "collapsed": false
   },
   "outputs": [],
   "source": [
    "mainUrl = 'https://en.wikipedia.org/wiki/List_of_American_television_series'"
   ]
  },
  {
   "cell_type": "code",
   "execution_count": 4,
   "metadata": {
    "collapsed": false
   },
   "outputs": [],
   "source": [
    "links = collectLinks(mainUrl)"
   ]
  },
  {
   "cell_type": "code",
   "execution_count": 39,
   "metadata": {
    "collapsed": false
   },
   "outputs": [
    {
     "name": "stdout",
     "output_type": "stream",
     "text": [
      "feature =  ['$#*! My Dad Says']\n",
      "feature =  ['Genre']\n",
      "Genre:  ['Sitcom']\n",
      "feature =  ['Created by']\n",
      "Created by:  ['David Kohan', 'Max Mutchnick', 'Justin Halpern']\n",
      "feature =  ['Starring']\n",
      "Starring:  ['William Shatner', 'Jonathan Sadowski', 'Will Sasso', 'Nicole Sullivan', 'Tim Bagley']\n",
      "feature =  ['Opening theme']\n",
      "feature =  ['Composer(s)']\n",
      "feature =  ['Country of origin']\n",
      "feature =  ['Original ', <span class=\"nowrap\">language(s)</span>]\n",
      "feature =  [<abbr title=\"Number\">No.</abbr>, ' of seasons']\n",
      "seasons:  1\n",
      "feature =  [<abbr title=\"Number\">No.</abbr>, ' of episodes']\n",
      "episodes: 18 \n",
      "feature =  ['Production']\n",
      "feature =  ['Executive ', <span class=\"nowrap\">producer(s)</span>]\n",
      "feature =  ['Camera setup']\n",
      "feature =  ['Running time']\n",
      "Running time:  ['21 minutes']\n",
      "feature =  ['Production ', <span class=\"nowrap\">company(s)</span>]\n",
      "feature =  ['Distributor']\n",
      "feature =  ['Release']\n",
      "feature =  ['Original network']\n",
      "Network:  ['CBS']\n",
      "feature =  ['Picture format']\n",
      "feature =  ['Original release']\n",
      "Original release:  ['September 23, 2010', <span style=\"display:none\"> (<span class=\"bday dtstart published updated\">2010-09-23</span>)</span>, '\\xa0– February 17, 2011', <span style=\"display:none\"> (<span class=\"dtend\">2011-02-17</span>)</span>]\n",
      "feature =  ['The $64,000 Question']\n",
      "feature =  ['Genre']\n",
      "Genre:  ['Game show']\n",
      "feature =  ['Written by']\n",
      "Created by:  ['Joseph Nathan Kane']\n",
      "feature =  ['Directed by']\n",
      "feature =  ['Presented by']\n",
      "feature =  ['Country of origin']\n",
      "feature =  ['Original ', <span class=\"nowrap\">language(s)</span>]\n",
      "feature =  [<abbr title=\"Number\">No.</abbr>, ' of seasons']\n",
      "seasons:  4\n",
      "feature =  ['Production']\n",
      "feature =  ['Executive ', <span class=\"nowrap\">producer(s)</span>]\n",
      "feature =  [<span class=\"nowrap\">Producer(s)</span>]\n",
      "feature =  ['Location(s)']\n",
      "feature =  ['Camera setup']\n",
      "feature =  ['Running time']\n",
      "Running time:  ['22–24 minutes']\n",
      "feature =  ['Release']\n",
      "feature =  ['Original network']\n",
      "Network:  ['CBS']\n",
      "feature =  ['Picture format']\n",
      "feature =  ['Audio format']\n",
      "feature =  ['Original release']\n",
      "Original release:  ['June 7, 1955', <span style=\"display:none\"> (<span class=\"bday dtstart published updated\">1955-06-07</span>)</span>, '\\xa0– November 2, 1958', <span style=\"display:none\"> (<span class=\"dtend\">1958-11-02</span>)</span>]\n",
      "feature =  ['Chronology']\n",
      "feature =  ['Related shows']\n",
      "feature =  ['The $64,000 Question']\n",
      "feature =  ['Genre']\n",
      "Genre:  ['Game show']\n",
      "feature =  ['Written by']\n",
      "Created by:  ['Joseph Nathan Kane']\n",
      "feature =  ['Directed by']\n",
      "feature =  ['Presented by']\n",
      "feature =  ['Country of origin']\n",
      "feature =  ['Original ', <span class=\"nowrap\">language(s)</span>]\n",
      "feature =  [<abbr title=\"Number\">No.</abbr>, ' of seasons']\n",
      "seasons:  4\n",
      "feature =  ['Production']\n",
      "feature =  ['Executive ', <span class=\"nowrap\">producer(s)</span>]\n",
      "feature =  [<span class=\"nowrap\">Producer(s)</span>]\n",
      "feature =  ['Location(s)']\n",
      "feature =  ['Camera setup']\n",
      "feature =  ['Running time']\n",
      "Running time:  ['22–24 minutes']\n",
      "feature =  ['Release']\n",
      "feature =  ['Original network']\n",
      "Network:  ['CBS']\n",
      "feature =  ['Picture format']\n",
      "feature =  ['Audio format']\n",
      "feature =  ['Original release']\n",
      "Original release:  ['June 7, 1955', <span style=\"display:none\"> (<span class=\"bday dtstart published updated\">1955-06-07</span>)</span>, '\\xa0– November 2, 1958', <span style=\"display:none\"> (<span class=\"dtend\">1958-11-02</span>)</span>]\n",
      "feature =  ['Chronology']\n",
      "feature =  ['Related shows']\n",
      "feature =  ['1 vs. 100']\n",
      "feature =  ['Genre']\n",
      "Genre:  ['Game show']\n",
      "feature =  ['Presented by']\n",
      "feature =  ['Narrated by']\n",
      "feature =  ['Country of origin']\n",
      "feature =  ['Original ', <span class=\"nowrap\">language(s)</span>]\n",
      "feature =  [<abbr title=\"Number\">No.</abbr>, ' of seasons']\n",
      "seasons:  3\n",
      "feature =  [<abbr title=\"Number\">No.</abbr>, ' of episodes']\n",
      "episodes: 68\n",
      "feature =  ['Production']\n",
      "feature =  ['Executive ', <span class=\"nowrap\">producer(s)</span>]\n",
      "feature =  ['Running time']\n",
      "Running time:  ['41–43\\xa0minutes (2006–08)', <br/>, '\\n20–22 minutes (2010–11)']\n",
      "feature =  ['Release']\n",
      "feature =  ['Original network']\n",
      "Network:  ['NBC', 'GSN']\n",
      "feature =  ['Picture format']\n",
      "feature =  ['Original release']\n",
      "Original release:  [<b>Original series:</b>, <br/>, '\\nOctober 13, 2006', <span style=\"display:none\"> (<span class=\"bday dtstart published updated\">2006-10-13</span>)</span>, ' – February 22, 2008', <span style=\"display:none\"> (<span class=\"dtend\">2008-02-22</span>)</span>, <br/>, '\\n', <b>2010 revival series:</b>, <br/>, '\\nNovember 15, 2010', <span style=\"display:none\"> (<span class=\"bday dtstart published updated\">2010-11-15</span>)</span>, '\\xa0– January 11, 2011', <span style=\"display:none\"> (<span class=\"dtend\">2011-01-11</span>)</span>]\n",
      "feature =  ['1st & Ten']\n",
      "feature =  ['Created by']\n",
      "Created by:  ['Carl Kleinschmitt']\n",
      "feature =  ['Starring']\n",
      "Starring:  ['Delta Burke', 'O. J. Simpson', 'Shannon Tweed', 'John Matuszak', 'Jason Beghe', 'Geoffrey Scott', 'Keith Amos', 'Paul Tuerpe', 'Prince Hughes', 'Shanna Reed', 'Reid Shelton']\n",
      "feature =  ['Country of origin']\n",
      "feature =  [<abbr title=\"Number\">No.</abbr>, ' of seasons']\n",
      "seasons:  6\n",
      "feature =  [<abbr title=\"Number\">No.</abbr>, ' of episodes']\n",
      "episodes: 80\n",
      "feature =  ['Production']\n",
      "feature =  ['Executive ', <span class=\"nowrap\">producer(s)</span>]\n",
      "feature =  ['Camera setup']\n",
      "feature =  ['Running time']\n",
      "Running time:  ['25 minutes']\n",
      "feature =  ['Release']\n",
      "feature =  ['Original network']\n",
      "Network:  ['HBO']\n",
      "feature =  ['Original release']\n",
      "Original release:  ['December 2, 1984', <span style=\"display:none\"> (<span class=\"bday dtstart published updated\">1984-12-02</span>)</span>, '\\xa0– January 23, 1991', <span style=\"display:none\"> (<span class=\"dtend\">1991-01-23</span>)</span>]\n"
     ]
    }
   ],
   "source": [
    "compileData(links)"
   ]
  },
  {
   "cell_type": "code",
   "execution_count": 40,
   "metadata": {
    "collapsed": false
   },
   "outputs": [
    {
     "name": "stdout",
     "output_type": "stream",
     "text": [
      "{'num_episodes': ['18 ', 'None', 'None', '68', '80'], 'starring': [['William Shatner', 'Jonathan Sadowski', 'Will Sasso', 'Nicole Sullivan', 'Tim Bagley'], 'None', 'None', 'None', ['Delta Burke', 'O. J. Simpson', 'Shannon Tweed', 'John Matuszak', 'Jason Beghe', 'Geoffrey Scott', 'Keith Amos', 'Paul Tuerpe', 'Prince Hughes', 'Shanna Reed', 'Reid Shelton']], 'num_seasons': ['1', '4', '4', '3', '6'], 'release': ['\\xa0– February 17, 2011', '\\xa0– November 2, 1958', '\\xa0– November 2, 1958', '\\nOctober 13, 2006', '\\xa0– January 23, 1991'], 'created_by': [['David Kohan', 'Max Mutchnick', 'Justin Halpern'], ['Joseph Nathan Kane'], ['Joseph Nathan Kane'], 'None', ['Carl Kleinschmitt']], 'title': ['$h*!_My_Dad_Says', 'The_$64,000_Question', 'The_$64,000_Question', '1_vs._100_(U.S._game_show)', '1st_%26_Ten_(HBO_TV_series)', '10_Things_I_Hate_About_You_(TV_series)', 'The_100_(TV_series)', '100_Deeds_for_Eddie_McDowd', '100_Questions', '106_%26_Park', '2_Broke_Girls', '20/20_(US_television_series)', '21_Jump_Street', '227_(TV_series)', '24_(TV_series)', '24:_Conspiracy', '24:_Live_Another_Day', '3_lbs', '3_South', '3-2-1_Contact', '30_Days_(TV_series)', '30_Rock', '3rd_Rock_from_the_Sun', '4th_and_Long', 'The_4400', '48_Hours_(TV_series)', '60_Minutes', '666_Park_Avenue', '7th_Heaven_(TV_series)', '77_Sunset_Strip', 'The_700_Club', '704_Hauser', '8_Simple_Rules', '8th_%26_Ocean', '90210_(TV_series)', 'Aaron_Stone', 'The_Abbott_and_Costello_Show', 'Abby_(TV_series)', 'ABC_Afterschool_Special', 'Access_Hollywood', 'Accidental_Family', 'According_to_Jim', 'Ace_Crawford,_Private_Eye', 'Ace_Ventura:_Pet_Detective_(TV_series)', 'Action_(TV_series)', 'Action_League_Now!', 'Adam-12', 'Adams_of_Eagle_Lake', 'The_Addams_Family_(1964_TV_series)', 'The_Addams_Family_(1973_animated_series)', 'The_Addams_Family_(1992_animated_series)', 'Adventures_in_Paradise_(TV_series)', 'Adventures_in_Wonderland', 'The_Adventures_of_Batman', 'The_Adventures_of_Brisco_County,_Jr.', 'The_Adventures_of_Jimmy_Neutron:_Boy_Genius', 'The_Adventures_of_Kit_Carson', 'The_Adventures_of_Ozzie_and_Harriet', 'The_Adventures_of_Pete_%26_Pete', 'The_Adventures_of_Rin_Tin_Tin', 'Adventures_of_Sonic_the_Hedgehog', 'The_Adventures_of_Super_Mario_Bros._3', 'Adventures_of_Superman_(TV_series)', 'AfterMASH', 'Against_the_Wall_(TV_series)', 'The_Agency_(2001_TV_series)', 'Agents_of_S.H.I.E.L.D.', 'Agent_Carter_(TV_series)', 'Airwolf', 'Alcatraz_(TV_series)', 'Alex_Haley%27s_Queen', 'ALF_(TV_series)', 'Alfred_Hitchcock_Presents', 'Alfred_Hitchcock_Presents_(1985_TV_series)', 'Alias_(TV_series)', 'Alias_Smith_and_Jones', 'Alice_(TV_series)', 'Aliens_in_America', 'All_About_the_Andersons', 'All_About_Us_(TV_series)', 'All_American_Girl_(1994_TV_series)', 'All_in_the_Family', 'All_My_Children', 'All_of_Us', 'All_Souls_(TV_series)', 'Almost_Anything_Goes', 'All_That', 'All_That_Glitters_(TV_series)', 'All%27s_Fair', 'Ally_(sitcom)', 'Ally_McBeal', 'Almost_Anything_Goes', 'The_Torkelsons', 'Alphas', 'Alvin_and_the_Chipmunks_(1983_TV_series)', 'The_Alvin_Show', 'The_Amanda_Show', 'Amanda%27s', 'The_Amazing_Race_(U.S._TV_series)', 'The_Amazing_Spider-Man_(TV_series)', 'Amazing_Stories_(TV_series)', 'Amen_(TV_series)', 'American_Bandstand', 'American_Chopper', 'American_Chopper:_Senior_vs._Junior', 'American_Dad!', 'American_Dragon:_Jake_Long', 'American_Dreamer_(TV_series)', 'American_Dreams', 'American_Gladiators', 'American_Gladiators_(2008_TV_series)', 'American_Horror_Story', 'American_Idol', 'American_Juniors', 'American_Ninja_Warrior', 'The_Americans_(1961_TV_series)', 'The_Americans_(2013_TV_series)', 'America%27s_Best_Dance_Crew', 'America%27s_Funniest_Home_Videos', 'America%27s_Got_Talent', 'America%27s_Most_Wanted', 'America%27s_Next_Great_Restaurant', 'America%27s_Next_Top_Model', 'Amos_%27n%27_Andy', 'Anchorwoman_(TV_series)', 'Anderson_Cooper_360%C2%B0', 'Andromeda_(TV_series)', 'The_Andros_Targets', 'Andy_Barker,_P.I.', 'The_Andy_Dick_Show', 'The_Andy_Griffith_Show', 'The_Andy_Milonakis_Show', 'Andy_Richter_Controls_the_Universe', 'The_Andy_Williams_Show', 'Andy%27s_Gang', 'Angel_(1999_TV_series)', 'Angel_from_Hell', 'Angie_(TV_series)', 'The_Angry_Beavers', 'Animaniacs', 'The_Ann_Sothern_Show', 'Another_Day_(TV_series)', 'Another_World_(TV_series)', 'A.N.T._Farm', 'Antiques_Roadshow_(U.S.)', 'Antiques_Roadshow_(U.S.)', 'Any_Day_Now_(TV_series)', 'Anything_but_Love', 'Apple%27s_Way', 'The_Apprentice_(U.S._TV_series)', 'The_Apprentice:_Martha_Stewart', 'Aqua_Teen_Hunger_Force', 'Aquaman_(TV_series)', 'Aquaman_(TV_program)', 'Archer_(TV_series)', 'Archie_Bunker%27s_Place', 'The_Archie_Show', 'Archie%27s_TV_Funnies', 'Are_You_Afraid_of_the_Dark', 'Are_You_Smarter_Than_a_5th_Grader%3F_(U.S._game_show)', 'Are_You_Smarter_Than_a_5th_Grader%3F_(U.S._syndicated_game_show)', 'Ark_II', 'Arliss', 'Army_Wives', 'Around_the_Horn', 'Arrested_Development_(TV_series)', 'Arrow_(TV_series)', 'Arthur_(TV_series)', 'Arthur_Godfrey_and_His_Friends', 'Arthur_Godfrey%27s_Talent_Scouts', 'As_If_(U.S._TV_series)', 'As_the_World_Turns', 'The_Ashlee_Simpson_Show', 'The_Asphalt_Jungle_(TV_series)', 'The_A-Team', 'The_Atom_Ant/Secret_Squirrel_Show', 'Augie_Doggie_and_Doggie_Daddy', 'Austin_%26_Ally', 'Austin_City_Limits', 'Avatar:_The_Last_Airbender', 'Average_Joe_(TV_series)', 'Awake_(TV_series)', 'Awkward_(TV_series)', 'Ax_Men', 'B._J._and_the_Bear', 'Baa_Baa_Black_Sheep_(TV_series)', 'Babes', 'Baby_Bob', 'Baby_Boom_(U.S._TV_series)', 'Baby_Daddy', 'Baby_Looney_Tunes', 'Baby_Talk_(TV_series)', 'Babylon_5', 'The_Bachelor_(US_TV_series)', 'Bachelor_Father_(U.S._TV_series)', 'The_Bachelorette', 'Back_at_the_Barnyard', 'Back_to_You_(TV_series)', 'Bagdad_Cafe_(TV_series)', 'Bakersfield_P.D.', 'Balderdash_(game_show)', 'Bam%27s_Unholy_Union', 'Banshee_(TV_series)', 'Barbershop_(TV_series)', 'Baretta', 'Barnaby_Jones', 'Barney_%26_Friends', 'Barney_Miller', 'Bat_Masterson_(TV_series)', 'Bates_Motel_(TV_series)', 'Batman_(TV_series)', 'The_Batman_(TV_series)', 'Batman:_The_Animated_Series', 'Batman_Beyond', 'Batman:_The_Brave_and_the_Bold', 'The_Batman/Superman_Hour', 'Battery_Park_(TV_series)', 'Battle_Dome', 'Battlestar_Galactica_(1978_TV_series)', 'Battlestar_Galactica_(2004_TV_series)', 'Bay_City_Blues', 'Baywatch', 'Baywatch_Nights', 'Bear_in_the_Big_Blue_House', 'The_Beast_(2001_TV_series)', 'The_Beast_(2009_TV_series)', 'The_Beat_(TV_series)', 'Beat_the_Clock', 'Beulah_(series)', 'Beautiful_People_(US_TV_series)', 'Beauty_and_the_Beast_(1987_TV_series)', 'Beauty_%26_the_Beast_(2012_TV_series)', 'Beauty_and_the_Geek', 'Beavis_and_Butt-head', 'Becker_(TV_series)', 'The_Bedford_Diaries', 'Beggars_and_Choosers_(TV_series)', 'Behind_the_Music', 'The_Benefactor', 'Benson_(TV_series)', 'The_Bernie_Mac_Show', 'The_Best_Damn_Sports_Show_Period', 'Bette_(TV_series)', 'Better_Call_Saul', 'Better_Off_Ted', 'Better_with_You', 'The_Betty_Hutton_Show', 'Between_the_Lions', 'The_Beverly_Hillbillies', 'Beverly_Hills,_90210', 'Beverly_Hills_Buntz', 'Bewitched', 'The_Big_Bang_Theory', 'Big_Brother_(U.S.)', 'The_Big_C_(TV_series)', 'Big_Day', 'The_Big_Easy', 'The_Big_House_(2004_TV_series)', 'Big_Love', 'Big_Shots_(TV_series)', 'Big_Time_Rush', 'The_Big_Valley', 'The_Biggest_Loser_(U.S._TV_series)', 'The_Bill_Cosby_Show', 'The_Bill_Engvall_Show', 'Billions_(TV_series)', 'The_Bionic_Woman', 'Bionic_Woman_(2007_TV_series)', 'Birds_of_Prey_(TV_series)', 'The_Black_Donnellys', 'Black_Sails_(TV_series)', 'Black_Sash_(TV_series)', 'The_Blacklist_(TV_series)', 'Blade:_The_Series', 'Blansky%27s_Beauties', 'Blind_Justice_(TV_series)', 'Blossom_(TV_series)', 'Blue_Bloods_(TV_series)', 'Blue_Collar_TV', 'The_Blue_Knight_(TV_series)', 'Blue_Light_(TV_series)', 'Blue_Mountain_State', 'Blue%27s_Clues', 'Boardwalk_Empire', 'Bob_(TV_series)', 'Bob_%26_Carol_%26_Ted_%26_Alice_(TV_series)', 'Bob_the_Builder', 'The_Bob_Newhart_Show_(1961_TV_series)', 'The_Bob_Newhart_Show', 'Bob_Patterson_(TV_series)', 'Bob%27s_Burgers', 'Body_of_Proof', 'BoJack_Horseman', 'The_Bold_and_the_Beautiful', 'The_Bold_Ones:_The_Lawyers', 'The_Bold_Ones:_The_New_Doctors', 'The_Bold_Ones:_The_Protectors', 'The_Bold_Ones:_The_Senator', 'Bonanza', 'Bones_(TV_series)', 'Bonnie_Hunt', 'The_Bonnie_Hunt_Show', 'The_Book_of_Daniel_(TV_series)', 'The_Book_of_Pooh', 'Booker_(TV_series)', 'Boomtown_(2002_TV_series)', 'Boots_and_Saddles_(TV_series)', 'Bored_to_Death', 'Bosom_Buddies', 'Boss_(TV_series)', 'Boston_Common_(TV_series)', 'Boston_Legal', 'Boston_Public', 'Bourbon_Street_Beat', 'Boy_Meets_Boy_(TV_series)', 'Boy_Meets_World', 'Bracken%27s_World', 'The_Brady_Brides', 'The_Brady_Bunch', 'The_Brady_Bunch_Hour', 'The_Brady_Kids', 'The_Bradys', 'BrainSurge', 'Bram_%26_Alice', 'Branded_(TV_series)', 'Breaking_Away_(TV_series)', 'Breaking_Bad', 'Breaking_In_(TV_series)', 'Breaking_News_(TV_series)', 'Breaking_Point_(1963_TV_series)', 'The_Brian_Keith_Show', 'Bridget_Loves_Bernie', 'Brimstone_(TV_series)', 'Bronco_(TV_series)', 'Bronk_(TV_series)', 'The_Bronx_Is_Burning', 'Brooke_Knows_Best', 'Brooklyn_Bridge_(TV_series)', 'Brooklyn_Nine-Nine', 'Brooklyn_South', 'Brotherhood_(2006_TV_series)', 'The_Brotherhood_of_Poland,_New_Hampshire', 'Brothers_(1984_TV_series)', 'Brothers_(2009_TV_series)', 'Brothers_and_Sisters_(1979_TV_series)', 'Brothers_%26_Sisters_(2006_TV_series)', 'The_Brothers_Garc%C3%ADa', 'Bubble_Guppies', 'Buck_Rogers_in_the_25th_Century_(TV_series)', 'Buffy_the_Vampire_Slayer_(TV_series)', 'Bull_(2000_TV_series)', 'Bump_in_the_Night_(TV_series)', 'Burke%27s_Law', 'Burke%27s_Law#Revival', 'Burn_Notice', 'Bustin%27_Loose_(TV_series)', 'Busting_Loose_(TV_series)', 'Butt-Ugly_Martians', 'Buzz_Lightyear_of_Star_Command', 'C.P.O._Sharkey', 'Cade%27s_County', 'Caillou', 'Cagney_%26_Lacey', 'Caitlin%27s_Way', 'Cake_(TV_series)', 'California_Dreams', 'Californication_(TV_series)', 'Camelot_(TV_series)', 'Camouflage_(2007_TV_series)', 'Camp_Lazlo', 'Candid_Camera', 'Cane_(TV_series)', 'Cannon_(TV_series)', 'Cannonball_(TV_series)', 'Canterbury%27s_Law', 'The_Cape_(1996_TV_series)', 'The_Cape_(2011_TV_series)', 'Capital_News', 'Captain_Kangaroo', 'Captain_Z-Ro', 'Car_54,_Where_Are_You%3F', 'Card_Sharks', 'The_Care_Bears_(TV_series)', 'Carniv%C3%A0le', 'Carol_%26_Company', 'The_Carol_Burnett_Show', 'Caroline_in_the_City', 'The_Caroline_Rhea_Show', 'Carpoolers', 'Carter_Country', 'Cartoon_Alley', 'Cash_Cab_(U.S._game_show)', 'Cashmere_Mafia', 'The_New_Casper_Cartoon_Show', 'Castle_(TV_series)', 'Cavemen_(TV_series)', 'Cedric_the_Entertainer_Presents', 'Celebrities_Uncensored', 'Celebrity_Circus_(U.S._TV_series)', 'Celebrity_Deathmatch', 'Celebrity_Sweepstakes', 'Center_of_the_Universe_(TV_series)', 'Central_Park_West_(TV_series)', 'Century_City_(TV_series)', 'Chain_Reaction_(game_show)', 'The_Challenge_(TV_series)', 'The_Chamber_(game_show)', 'Chappelle%27s_Show', 'Charles_in_Charge', 'Charlie_Rose_(talk_show)', 'Charlie%27s_Angels', 'Charmed', 'The_Charmings', 'Chase_(1973_TV_series)', 'Chase_(2010_TV_series)', 'Cha$e', 'Chasing_Farrah', 'Cheaters', 'Checking_In', 'Checkmate', 'Cheers', 'The_Chelsea_Handler_Show', 'Chelsea_Lately', 'Cheyenne_(1955_TV_series)', 'The_Chicago_Code', 'Chicago_Fire_(TV_series)', 'Chicago_Hope', 'Chicago_PD_(TV_series)', 'Chico_and_the_Man', 'China_Beach', 'CHiPs', 'The_Chris_Isaak_Show', 'The_Chris_Rock_Show', 'Chuck_(TV_series)', 'The_Cisco_Kid_(TV_series)', 'Citizen_Baines', 'The_City_(1995_TV_series)', 'The_City_(MTV_series)', 'City_Confidential', 'City_Guys', 'City_of_Angels_(1976_TV_series)', 'City_of_Angels_(2000_TV_series)', 'The_Class_(TV_series)', 'Class_of_3000', 'Class_of_%2796', 'The_Cleaner_(TV_series)', 'Cleopatra_2525', 'The_Cleveland_Show', 'Clone_High', 'Close_to_Home_(2005_TV_series)', 'The_Closer', 'Clubhouse_(TV_series)', 'Co-Ed_Confidential', 'Co-Ed_Fever', 'Coach_(TV_series)', 'Coconut_Fred%27s_Fruit_Salad_Island', 'Code_Red_(TV_series)', 'The_Colbert_Report', 'The_Colbys', 'Cold_Case', 'Cold_Pizza', 'Colgate_Comedy_Hour', 'The_CollegeHumor_Show', 'Combat!', 'Combat_Hospital', 'The_Comeback_(TV_series)', 'Comedy_Central_Presents', 'Commander_in_Chief_(TV_series)', 'The_Commish', 'Committed_(2005_TV_series)', 'Community_(TV_series)', 'Complete_Savages', 'Conan_(talk_show)', 'Conan_the_Adventurer_(animated_series)', 'Conspiracy_Theory_with_Jesse_Ventura', 'The_Contender_(TV_series)', 'Conviction_(2006_TV_series)', 'Cop_Rock', 'Cops_(TV_series)', 'Cory_in_the_House', 'Cos_(TV_series)', 'Cosby', 'The_Cosby_Mysteries', 'The_Cosby_Show', 'Cougar_Town', 'Countdown_with_Keith_Olbermann', 'Coupling_(U.S._TV_series)', 'Courageous_Cat_and_Minute_Mouse', 'Courting_Alex', 'The_Courtship_of_Eddie%27s_Father', 'Cousin_Skeeter', 'Covert_Affairs', 'Cracking_Up_(TV_series)', 'Crank_Yankers', 'Crash_(2008_TV_series)', 'Crime_Story_(TV_series)', 'Criminal_Minds', 'Crisis_(TV_series)', 'The_Crocodile_Hunter', 'Crossing_Jordan', 'Crossroads_(1955_TV_series)', 'Crowded_(TV_series)', 'Crusade_(TV_series)', 'CSI:_Crime_Scene_Investigation', 'CSI:_Cyber', 'CSI:_Miami', 'CSI:_NY', 'Cupid_(1998_TV_series)', 'Cupid_(2009_TV_series)', 'Curb_Your_Enthusiasm', 'A_Current_Affair_(U.S._TV_series)', 'Cursed_(TV_series)', 'Cuts', 'Cyberchase', 'Daddio', 'DAG_(TV_series)', 'The_Daily_Show', 'Daktari', 'Dallas_(1978_TV_series)', 'Dallas_(2012_TV_series)', 'Damage_Control_(TV_series)', 'Damages_(TV_series)', 'Dan_August', 'The_Dana_Carvey_Show', 'Dance_Fever', 'Dance_Moms', 'Dance_Moms:_Miami', 'Dance_on_Sunset', 'Dancing_with_the_Stars_(U.S._TV_series)', 'Daniel_Boone_(1964_TV_series)', 'Danny_Phantom', 'The_Danny_Thomas_Show', 'Dante%27s_Cove', 'Daria', 'Dark_Angel_(TV_series)', 'Dark_Blue_(TV_series)', 'Dark_Realm', 'Dark_Shadows', 'Dark_Shadows_(1991_TV_series)', 'Dark_Skies', 'Date_My_Mom', 'Date_with_the_Angels', 'Dateline_NBC', 'The_Dating_Game', 'Dave%27s_World', 'Davey_and_Goliath', 'David_Cassidy:_Man_Under_Cover', 'The_David_Letterman_Show', 'Davy_Crockett_(TV_miniseries)', 'Dawson%27s_Creek', 'Day_Break', 'Day_by_Day_(TV_series)', 'The_Days_(TV_series)', 'The_Days_and_Nights_of_Molly_Dodd', 'Days_of_Our_Lives', 'Dead_Last', 'Dead_Like_Me', 'The_Dead_Zone_(TV_series)', 'Deadliest_Catch', 'Deadly_Games', 'Deadwood_(TV_series)', 'Deal_or_No_Deal_(U.S._game_show)', 'The_Dean_Martin_Show', 'Dear_John_(US_TV_series)', 'Death_Valley_Days', 'The_Debbie_Reynolds_Show', 'Def_Comedy_Jam', 'The_Defenders_(1961_TV_series)', 'The_Defenders_(2010_TV_series)', 'Delta_House', 'Judd_Hirsch#Career', 'Dennis_the_Menace_(1959_TV_series)', 'Dennis_the_Menace_(1986_TV_series)', 'Dennis_Miller_Live', 'The_Dennis_Miller_Show#The_Dennis_Miller_Show', 'The_Dennis_O%27Keefe_Show', 'Deputy_Dawg', 'Designing_Women', 'Desire_(TV_series)', 'Desperate_Housewives', 'Detroit_1-8-7', 'Dexter_(TV_series)', 'Dharma_and_Greg', 'Diagnosis:_Murder', 'The_Dick_Cavett_Show', 'The_Dick_Clark_Show', 'Dick_Clark%27s_New_Year%27s_Rockin%27_Eve_with_Ryan_Seacrest', 'The_Dick_Tracy_Show', 'The_Dick_Van_Dyke_Show', 'A_Different_World_(TV_series)', 'Diff%27rent_Strokes', 'Dilbert_(TV_series)', 'Dinah!', 'The_Dinah_Shore_Chevy_Show', 'The_Dinah_Shore_Show', 'Dinosaurs_(TV_series)', 'DinoSquad', 'Dirt_(TV_series)', 'Dirty_Jobs', 'Dirty_Sexy_Money', 'The_Dirty_South_(TV_series)', 'Dismissed_(TV_series)', 'The_District', 'The_Division', 'Divorce_Court', 'Do_Not_Disturb_(TV_series)', 'Do_Over', 'Doc_(1975_TV_series)', 'Doc_(2001_TV_series)', 'Doctor_Doctor_(1989_TV_series)', 'Dr._Phil_(TV_series)', 'Dr._Quinn,_Medicine_Woman', 'Dog_the_Bounty_Hunter', 'Dog_Eat_Dog_(US_game_show)', 'Dog_With_a_Blog', 'Dollhouse_(TV_series)', 'Dolly_(TV_series)', 'Dolly!', 'Dominion_(TV_series)', 'Donny_%26_Marie_(1976_TV_series)', 'Donny_%26_Marie_(1998_TV_series)', 'The_Donna_Reed_Show', 'Don%27t_Forget_the_Lyrics!', 'Don%27t_Trust_the_B----_in_Apartment_23', 'Doogie_Howser,_M.D.', 'Dora_the_Explorer', 'The_Doris_Day_Show', 'Dot_Comedy', 'Double_Dare_(1976_game_show)', 'Double_Dare_(1986_game_show)', 'Double_Dare_2000', 'Double_Trouble_(U.S._TV_series)', 'Doug_(TV_series)', 'Dragnet_(series)', 'Dragons:_Riders_of_Berk', 'Drake_%26_Josh', 'Drawn_Together', 'Dream_On_(TV_series)', 'The_Dresden_Files_(TV_series)', 'The_Drew_Carey_Show', 'Drew_Carey%27s_Green_Screen_Show', 'Drexel%27s_Class', 'Drive_(2007_TV_series)', 'Drop_Dead_Diva', 'Due_South', 'The_Dukes_of_Hazzard', 'The_Dumplings_(TV_series)', 'Dusty%27s_Trail', 'Dynasty_(TV_series)', 'E!_True_Hollywood_Story', 'Early_Edition', 'Eastbound_%26_Down', 'Eastwick_(TV_series)', 'Easy_Money_(TV_series)', 'Ed_(TV_series)', 'Ed,_Edd_n_Eddy', 'The_Ed_Sullivan_Show', 'The_Eddie_Capra_Mysteries', 'The_Edge_of_Night', 'Eight_Is_Enough', 'The_Electric_Company_(1971_TV_series)', 'The_Electric_Company_(2009_TV_series)', 'Elementary_(TV_series)', 'Eleventh_Hour_(U.S._TV_series)', 'Eli_Stone', 'Ellen_(TV_series)', 'The_Ellen_DeGeneres_Show', 'The_Ellen_Show', 'Ellery_Queen_(TV_series)', 'Emergency!', 'Emeril_Live', 'Emily%27s_Reasons_Why_Not', 'Empire_(2015_TV_series)', 'Empty_Nest_(TV_series)', 'Endurance_(TV_series)', 'Engaged_and_Underage', 'Ensign_O%27Toole', 'Entertainment_Tonight', 'Entourage_(TV_series)', 'Episodes_(TV_series)', 'The_Equalizer', 'ER_(TV_series)', 'E/R', 'Essence_of_Emeril', 'Eureka_(U.S._TV_series)', 'Eve_(U.S._TV_series)', 'The_Eve_Arden_Show', 'Even_Stevens', 'Evening_Shade', 'The_Event_(TV_series)', 'Everwood', 'Everybody_Hates_Chris', 'Everybody_Loves_Raymond', 'The_Evidence_(TV_series)', 'The_Ex_List', 'Exposed_(MTV_series)', 'Extant_(TV_series)', 'Extra_(TV_series)', 'Extreme_Makeover', 'Extreme_Makeover:_Home_Edition', 'Extreme_Makeover:_Weight_Loss_Edition', 'Eye_for_an_Eye_(TV_series)', 'The_Eyes_of_Nye', 'F_Troop', 'The_F.B.I._(TV_series)', 'Face_the_Ace', 'The_Face_Is_Familiar', 'Face_the_Nation', 'The_Facts_of_Life_(TV_series)', 'The_Fairly_OddParents', 'Faking_It_(2014_TV_series)', 'Falcon_Crest', 'The_Fall_Guy', 'Fame_(1982_TV_series)', 'Fame_(2003_TV_series)', 'Family_(1976_TV_series)', 'The_Family_(U.S._TV_series)', 'Family_Affair', 'Family_Affair#Revival_series', 'Family_Dog_(TV_series)', 'Family_Feud', 'Family_Foreman', 'Family_Game_Night_(TV_series)', 'Family_Guy', 'Gregory_Harrison', 'Family_Matters', 'Family_Ties', 'The_Famous_Teddy_Z', 'Fantasy_Island', 'Fantasy_Island#1998_series', 'Faraway_Hill', 'Fargo_(TV_series)', 'Farmer_Wants_a_Wife_(U.S._TV_series)', 'The_Farmer%27s_Daughter_(TV_series)', 'Farscape', 'Fashion_House', 'Fast_Times', 'Fastlane_(TV_series)', 'Fat_Actress', 'Fat_Albert_and_the_Cosby_Kids', 'Father_Dowling_Mysteries', 'Father_Knows_Best', 'Father_Murphy', 'Fear_Factor', 'Fear_Itself_(TV_series)', 'The_Feather_and_Father_Gang', 'Felicity_(TV_series)', 'Fernwood_2_Night', 'Ferris_Bueller_(TV_series)', 'FETCH!_with_Ruff_Ruffman', 'Fifi_and_the_Flowertots', 'Figure_it_Out', 'Filthy_Rich_(1982_TV_series)', 'Fire_Me...Please', 'Firefly_(TV_series)', 'Fireman_Sam', 'The_First_48', 'First_Monday', 'First_Wave_(TV_series)', 'Fish_(U.S._TV_series)', 'Fish_Hooks', 'Fish_Police_(TV_series)', '5ive_Days_to_Midnight', 'Flamingo_Road_(TV_series)', 'The_Flash_(1990_TV_series)', 'The_Flash_(2014_TV_series)', 'FlashForward', 'Flashpoint_(TV_series)', 'Flavor_of_Love', 'Flavor_of_Love_Girls:_Charm_School', 'Flight_of_the_Conchords_(TV_series)', 'The_Flintstones', 'The_Flip_Wilson_Show', 'Flipper_(1964_TV_series)', 'Flying_Blind_(TV_series)', 'The_Flying_Nun', 'Foley_Square_(TV_series)', 'Football_Night_in_America', 'Football_Wives', 'For_Love_or_Money_(TV_series)', 'For_Your_Love_(TV_series)', 'Forever_(U.S._TV_series)', 'The_Forgotten_(TV_series)', 'The_Fosters_(2013_TV_series)', 'Four_Kings', 'Fraggle_Rock', 'Fraggle_Rock_(animated_TV_series)', 'Frank_TV', 'Frank%27s_Place', 'Frasier', 'Freaks_and_Geeks', 'FreakyLinks', 'Freddie', 'Free_for_All_(TV_series)', 'Free_Ride_(TV_series)', 'The_Fresh_Prince_of_Bel-Air', 'Friday_Night_Lights_(TV_series)', 'Friends', 'Friends_with_Better_Lives', 'Fringe_(TV_series)', 'Frontline_(U.S._TV_series)', 'The_Fugitive_(TV_series)', 'The_Fugitive_(2000_TV_series)', 'Full_House', 'Fury_(TV_series)', 'Futurama', 'Galaxy_High', 'The_Gallant_Men', 'The_Game_(U.S._TV_series)', 'The_Game_of_Life_(game_show)', 'Game_of_Thrones', 'Garfield_and_Friends', 'Garrison%27s_Gorillas', 'The_Garry_Moore_Show', 'Gary_%26_Mike', 'Gary_Unmarried', 'The_Gates_(TV_series)', 'Robert_Urich#Television_series', 'Gay,_Straight_or_Taken%3F', 'The_Geena_Davis_Show', 'Gene_Simmons_Family_Jewels', 'General_Hospital', 'Generations_(U.S._TV_series)', 'The_Generations_Project', 'Gentle_Ben', 'The_George_Burns_and_Gracie_Allen_Show', 'George_Lopez_(TV_series)', 'George_of_the_Jungle', 'George_of_the_Jungle_(2007_TV_series)', 'Geraldo_(TV_series)', 'Geraldo_at_Large', 'Get_Christie_Love!', 'Get_a_Life_(TV_series)', 'Get_Real_(U.S._TV_series)', 'Get_Smart', 'Get_Smart_(1995_TV_series)', 'Get_This_Party_Started', 'The_Ghost_%26_Mrs._Muir_(TV_series)', 'Ghost_Hunters', 'Ghost_Hunters_International', 'Ghost_Story_(TV_series)', 'Ghost_Whisperer', 'G.I._Joe_Extreme', 'G.I._Joe:_A_Real_American_Hero_(1985_TV_series)', 'G.I._Joe:_A_Real_American_Hero_(1989_TV_series)', 'G.I._Joe:_Resolute', 'G.I._Joe:_Renegades', 'G.I._Joe:_Sigma_6', 'Gibbsville_(TV_series)', 'Gideon%27s_Crossing', 'Gidget_(TV_series)', 'Gigantor', 'Gilligan%27s_Island', 'Gilmore_Girls', 'Gimme_a_Break!', 'The_Girl_from_U.N.C.L.E.', 'Girl_Meets_World', 'The_Girl_with_Something_Extra', 'Girlfriends', 'Girls_(TV_series)', 'Girls_Behaving_Badly', 'Girls_Club_(TV_series)', 'Gladiators_2000', 'Glee_(TV_series)', 'The_Glee_Project', 'Glenn_Martin,_DDS', 'Gloria_(TV_series)', 'Brad_Pitt#Filmography', 'Glory_Days_(TV_series)', 'God,_the_Devil_and_Bob', 'Going_Places_(American_TV_series)', 'Going_to_California_(TV_series)', 'The_Goldbergs_(broadcast_series)', 'The_Goldbergs_(TV_series)', 'The_Golden_Girls', 'The_Golden_Palace', 'Gomer_Pyle,_USMC', 'The_Gong_Show', 'The_Gong_Show_with_Dave_Attell', 'Good_Eats', 'Good_Girls_Don%27t_(TV_series)', 'The_Good_Guys_(1968_TV_series)', 'The_Good_Guys_(2010_TV_series)', 'Good_Luck_Charlie', 'Good_Morning_America', 'Good_Morning,_Miami', 'Good_Morning,_Miss_Bliss', 'Good_Times', 'The_Good_Wife_(TV_series)', 'Goodyear_Theatre', 'Gossip_Girl_(TV_series)', 'Gotham_(TV_series)', 'The_Governor_%26_J.J.', 'Grace_Under_Fire_(TV_series)', 'Grady_(TV_series)', 'Gravity_Falls', 'Grease:_You%27re_the_One_that_I_Want!', 'The_Great_American_Dream_Vote', 'The_Great_American_Road_Trip', 'The_Great_Grape_Ape_Show', 'The_Greatest_American_Hero', 'Greed_(game_show)', 'Greek_(TV_series)', 'Green_Acres', 'The_Green_Hornet_(TV_series)', 'Greetings_from_Tucson', 'Greg_the_Bunny', 'Grey%27s_Anatomy', 'The_Grid_(TV_series)', 'Griff_(TV_series)', 'Grimm_(TV_series)', 'The_Grim_Adventures_of_Billy_%26_Mandy', 'Groovie_Goolies', 'Grosse_Pointe_(TV_series)', 'Grounded_for_Life', 'Growing_Pains', 'Growing_Up_Gotti', 'Grown_Ups_(1999_TV_series)', 'The_Guardian_(TV_series)', 'Guiding_Light', 'Gulliver%27s_Travels_(miniseries)', 'The_Gumby_Show', 'The_Guns_of_Will_Sonnett', 'Gunsmoke', 'H.R._Pufnstuf', 'Hack_(American_TV_series)', 'Half_%26_Half', 'Halfway_Home_(TV_series)', 'Hallmark_Hall_of_Fame', 'Halt_and_Catch_Fire_(TV_series)', 'The_Handler_(TV_series)', 'Hang_Time_(TV_series)', 'Hangin%27_with_Mr._Cooper', 'Hank_(1965_TV_series)', 'Hank_(2009_TV_series)', 'Hannah_Montana', 'Hannibal_(TV_series)', 'Hannity_%26_Colmes', 'Happily_Divorced', 'Happy_Days', 'Happy_Endings_(TV_series)', 'Happy_Family_(2003_TV_series)', 'Happy_Hour_(TV_series)', 'Happy_Town_(TV_series)', 'Happy_Tree_Friends', 'Hard_Copy', 'Hardball_with_Chris_Matthews', 'Hardcastle_and_McCormick', 'The_Hardy_Boys/Nancy_Drew_Mysteries', 'Harlem_Heights_(TV_series)', 'Harper_Valley_PTA_(TV_series)', 'Harper%27s_Island', 'Harry_and_the_Hendersons_(TV_series)', 'Harry_Loves_Lisa', 'Harry_O', 'Harry%27s_Girls', 'Harry%27s_Law', 'Hart_to_Hart', 'Harvey_Birdman,_Attorney_at_Law', 'Haunted_(TV_series)', 'Have_Gun_%E2%80%93_Will_Travel', 'Haven_(TV_series)', 'Hawaii_(TV_series)', 'Hawaii_Five-O', 'Hawaii_Five-0', 'Hawaiian_Eye', 'Hawthorne_(TV_series)', 'Hazel_(TV_series)', 'He-Man_and_the_Masters_of_the_Universe', 'Head_Cases', 'Head_of_the_Class', 'The_Headmaster_(TV_series)', 'Heartland_(2007_U.S._TV_series)', 'Hearts_Afire', 'Heckle_and_Jeckle', 'Hee_Haw', 'The_Heights_(TV_series)', 'Heist_(TV_series)', 'Hell_Town_(TV_series)', 'Hellcats', 'Hello,_Larry', 'Hell%27s_Kitchen_(U.S._TV_series)', 'Help_Me_Help_You', 'Hercules_(1998_TV_series)', 'Hercules:_The_Legendary_Journeys', 'Here_Come_the_Brides', 'Here_Come_the_Newlyweds', 'Here%27s_Lucy', 'Herman%27s_Head', 'Hero_High', 'Heroes_(TV_series)', 'Hey_Arnold!', 'Hey_Dude', 'Hidden_Hills', 'Hidden_Palms', 'The_High_Chaparral', 'High_Maintenance_(TV_series)', 'High_Mountain_Rangers', 'High_School_Reunion_(TV_series)', 'Highlander:_The_Series', 'Highway_Patrol_(TV_series)', 'Highway_to_Heaven', 'Hill_Street_Blues', 'The_Hills_(TV_series)', 'Hip_Hop_Harry', 'Hitched_or_Ditched', 'The_Hitchhiker_(TV_series)', 'The_Hogan_Family', 'Hogan_Knows_Best', 'Hogan%27s_Heroes', 'Hole_in_the_Wall_(U.S._game_show)', 'Hollywood_Heights_(TV_series)', 'Hollywood_Squares', 'Home_Improvement_(TV_series)', 'Home_Movies_(TV_series)', 'Home_Run_Derby_(TV_series)', 'Homefront_(US_TV_series)', 'Homeland_(TV_series)', 'Homeland_Security_USA', 'Homicide:_Life_on_the_Street', 'Honey,_I_Shrunk_the_Kids:_The_TV_Show', 'Honey_West_(TV_series)', 'The_Honeymooners', 'Hooperman', 'Hoops_%26_Yoyo_Ruin_Christmas', 'Hootenanny_(US_TV_series)', 'Hope_%26_Faith', 'Hope_and_Gloria', 'Hot_in_Cleveland', 'Hot_l_Baltimore', 'Hot_Properties_(sitcom)', 'Hotel_(U.S._TV_series)', 'House_(TV_series)', 'House_Calls_(TV_series)', 'House_of_Anubis', 'House_of_Cards_(U.S._TV_series)', 'House_of_Mouse', 'How_I_Met_Your_Mother', 'How_to_Get_Away_with_Murder', 'How_to_Make_It_in_America', 'How%27d_You_Get_So_Rich%3F', 'Howdy_Doody', 'Howie_Do_It', 'The_Huckleberry_Hound_Show', 'The_Hudson_Brothers#Television_and_movies', 'Huge_(TV_series)', 'The_Hughleys', 'Hullabaloo_(TV_series)', 'Human_Target_(1992_TV_series)', 'Human_Target_(2010_TV_series)', 'Hung_(TV_series)', 'Hunter_(U.S._1977_TV_series)', 'Hunter_(U.S._TV_series)', 'The_Huntress_(TV_series)', 'Hype_(TV_series)', 'I_Dream_of_Jeannie', 'I_Love_Lucy', 'I_Love_New_York_(TV_series)', 'I_Married_Joan', 'I,_Max', 'Into_the_Badlands_(TV_series)', 'I_Pity_the_Fool_(TV_series)', 'I_Spy_(1965_TV_series)', 'I_Survived_a_Japanese_Game_Show', 'ICarly', 'Ice_Road_Truckers', 'I%27ll_Fly_Away_(TV_series)', 'Imagination_Movers_(TV_series)', 'I%27m_Dickens,_He%27s_Fenster', 'I%27m_with_Busey', 'I%27m_With_Her', 'Imogene_Coca', 'Impractical_Jokers', 'In_the_Heat_of_the_Night_(TV_series)', 'In_Justice', 'In_Living_Color', 'In_the_Motherhood', 'In_Plain_Sight', 'In_Search_Of..._(TV_series)', 'In_Treatment_(U.S._TV_series)', 'The_Inbetweeners_(U.S._TV_series)', 'Inch_High,_Private_Eye', 'Inconceivable', 'The_Incredible_Hulk_(1978_TV_series)', 'Ink_(TV_series)', 'Inside_Edition', 'Inside_the_Actors_Studio', 'Inside_the_NFL', 'Insomniac_with_Dave_Attell', 'Inspector_Gadget_(1983_TV_series)', 'Intelligence_(U.S._TV_series)', 'Invader_Zim', 'The_Invaders', 'Invasion_(TV_series)', 'Invasion_America', 'The_Invisible_Man_(1975_TV_series)', 'The_Invisible_Man_(2000_TV_series)', 'Iron_Chef_America', 'Iron_Man_(TV_series)', 'Ironside_(TV_series)', 'The_Islanders_(TV_series)', 'It_Had_to_Be_You_(TV_series)', 'It_Takes_a_Thief_(1968_TV_series)', 'It_Takes_a_Thief_(2005_TV_series)', 'It%27s_About_Time_(TV_series)', 'It%27s_All_Relative', 'It%27s_Always_Sunny_in_Philadelphia', 'It%27s_Garry_Shandling%27s_Show', 'It%27s_Like,_You_Know...', 'It%27s_a_Living_(1980_TV_series)', 'It%27s_Your_Chance_of_a_Lifetime', 'It%27s_Your_Move', 'I%27ve_Got_a_Secret', 'J.P._Patches', 'Jack_%26_Bobby', 'Jack_%26_Jill_(TV_series)', 'The_Jack_Benny_Show', 'Jack_LaLanne#Books.2C_television_and_other_media', 'Jack_of_All_Trades_(TV_series)', 'Jackass_(TV_series)', 'JAG_(TV_series)', 'Jake_2.0', 'Jake_and_the_Fatman', 'The_Jake_Effect', 'Jake_In_Progress', 'James_at_15', 'The_Jamie_Foxx_Show', 'The_Jamie_Kennedy_Experiment', 'Jamie_Oliver%27s_Food_Revolution', 'Jane_the_Virgin', 'The_Janice_Dickinson_Modeling_Agency', 'The_Jay_Leno_Show', 'The_Jeffersons', 'Jennifer_Slept_Here', 'The_Jenny_Jones_Show', 'Jeopardy!', 'Jeremiah_(TV_series)', 'Jericho_(1966_TV_series)', 'Jericho_(2006_TV_series)', 'The_Jerry_Springer_Show', 'Jersey_Shore_(TV_series)', 'Jesse_(TV_series)', 'The_Jetsons', 'Jigsaw_(U.S._TV_series)', 'Jigsaw_John#Fame', 'Jim_Rome_Is_Burning', 'Jimmy_Kimmel_Live!', 'Joan_of_Arcadia', 'Joanie_Loves_Chachi', 'The_Job_(2001_TV_series)', 'Joey_(TV_series)', 'The_Joey_Bishop_Show_(sitcom)', 'The_Joey_Bishop_Show_(talk_show)', 'John_Doe_(TV_series)', 'John_from_Cincinnati', 'Johnny_Test', 'Jojo%27s_Circus', 'The_Joker%27s_Wild', 'Jonas_L.A.', 'Jonny_Quest_(TV_series)', 'Josie_and_the_Pussycats_(TV_series)', 'Journey_to_the_Center_of_the_Earth_(TV_series)', 'Journeyman_(TV_series)', 'The_Joy_Behar_Show', 'Judge_Hatchett', 'Judge_Joe_Brown#Television_show', 'Judge_Judy', 'Judge_Maria_Lopez', 'Judge_Mathis', 'Judge_Mills_Lane', 'Judging_Amy', 'The_Judy_Garland_Show', 'Julia_(TV_series)', 'Julie_(TV_series)', 'Almost_Anything_Goes', 'The_Jury_(TV_series)', 'Just_for_Kicks_(TV_series)', 'Just_Jordan', 'Just_Legal', 'Just_Shoot_Me!', 'Just_the_Ten_of_Us', 'Justice_(TV_series)', 'Justice_League_(TV_series)', 'Justice_League_Unlimited', 'K_Street_(TV_series)', 'K-Ville_(TV_series)', 'KaBlam!', 'The_Kallikaks', 'Karen_(1964_TV_series)', 'Karen_(1975_TV_series)', 'Karen_Sisco', 'Kate_%26_Allie', 'Kate_Brasher', 'Kath_%26_Kim_(U.S._TV_series)', 'Kathy_(TV_series)', 'Kathy_Griffin:_My_Life_on_the_D-List', 'Keen_Eddie', 'Keeping_Up_with_the_Kardashians', 'Kenan_%26_Kel', 'Kevin_Hill', 'Kid_Nation', 'The_Kid_Super_Power_Hour_with_Shazam!', 'Kidnapped_(TV_series)', 'Kids_Say_the_Darndest_Things', 'The_Kill_Point', 'Killer_Instinct_(TV_series)', 'Kim_Possible', 'King_of_the_Hill', 'The_King_of_Queens', 'Kingpin_(TV_series)', 'Kipper_the_Dog', 'Kirby:_Right_Back_At_Ya', 'Kitchen_Confidential_(TV_series)', 'Kitchen_Nightmares', 'Knight_Rider_(1982_TV_series)', 'Knight_Rider_(2008_TV_series)', 'The_Knights_of_Prosperity', 'Knots_Landing', 'The_Koala_Brothers', 'Kojak', 'Kojak_(2005_TV_series)', 'Kratts%27_Creatures', 'Kristin_(TV_series)', 'Krypto_the_Superdog', 'Kung_Fu_(TV_series)', 'Kyle_XY', 'The_L_Word', 'L.A._Law', 'Ladies_Man_(1980_TV_series)', 'Ladies_Man_(1999_TV_series)', 'Laguna_Beach:_The_Real_Orange_County', 'Lancer_(TV_series)', 'The_Land_Before_Time_(TV_series)', 'Land_of_the_Giants', 'Land_of_the_Lost_(1974_TV_series)', 'Land_of_the_Lost_(1991_TV_series)', 'Land%27s_End_(TV_Series)#Acting_career', 'Lanigan%27s_Rabbi', 'Laramie_(TV_series)', 'Laredo_(TV_series)', 'Larry_King_Live', 'The_Larry_Sanders_Show', 'Las_Vegas_(TV_series)', 'Lassie_(1954_TV_series)', 'Last_Call_with_Carson_Daly', 'Last_Comic_Standing', 'Last_Man_Standing_(U.S._TV_series)', 'The_Last_Resort_(1979_TV_series)', 'Last_Resort_(U.S._TV_series)', 'The_Late_Late_Show_with_Craig_Ferguson', 'The_Late_Late_Show_(CBS_TV_series)', 'Late_Night_with_Conan_O%27Brien', 'Late_Night_with_David_Letterman', 'Late_Night_with_Jimmy_Fallon', 'Late_Show_with_David_Letterman', 'Rowan_%26_Martin%27s_Laugh-In', 'Laurie_Hill_(TV_series)', 'Laverne_%26_Shirley', 'The_Law_%26_Harry_McGraw', 'The_Law_and_Mr._Jones', 'Law_%26_Order', 'Law_%26_Order:_Crime_%26_Punishment', 'Law_%26_Order:_Criminal_Intent', 'Law_%26_Order:_Los_Angeles', 'Law_%26_Order:_Special_Victims_Unit', 'Law_%26_Order:_Trial_by_Jury', 'Law_of_the_Plainsman', 'Lawman_(TV_series)', 'The_Lawrence_Welk_Show', 'LAX_(TV_series)', 'The_Lazarus_Man', 'Lou_Gossett,_Jr.#Filmography', 'The_League', 'Leap_of_Faith_(TV_series)', 'Leap_Years', 'Leave_It_to_Beaver', 'Leg_Work', 'Legacy_(TV_series)', 'Legend_(TV_series)', 'The_Legend_of_Prince_Valiant', 'The_Legend_of_Tarzan', 'Legends_of_the_Hidden_Temple', 'Legion_of_Super_Heroes_(TV_series)', 'Lenny_(TV_series)', 'The_Leslie_Uggams_Show', 'Less_than_Perfect', 'Let%27s_Make_a_Deal', 'Leverage_(TV_series)', 'Lewis_%26_Clark_(TV_series)', 'Liar%27s_Club', 'Lidsville', 'Lie_to_Me', 'Life_(NBC_TV_series)', 'The_Life_and_Legend_of_Wyatt_Earp', 'The_Life_and_Times_of_Grizzly_Adams', 'Life_as_We_Know_It_(TV_series)', 'Life_Goes_On_(TV_series)', 'Life_Is_Wild', 'The_Life_of_Riley#Television', 'Life_on_Mars_(U.S._TV_series)', 'Life_on_a_Stick', 'Life_Unexpected', 'Life_with_Bonnie', 'Life_with_Derek', 'Life_with_Elizabeth', 'Life_with_Louie', 'Life_with_Lucy', 'Life_with_Roger', 'Life%27s_Work', 'Lights_Out_(1946_TV_series)', 'Lights_Out_(2011_TV_series)', 'Like_Family', 'Lil%27_Bush', 'Lincoln_Heights_(TV_series)', 'Linc%27s', 'Line_of_Fire_(2003_TV_series)', 'The_Lineup_(TV_series)', 'Lingo_(U.S._game_show)', 'Lipshitz_Saves_the_World', 'Lipstick_Jungle_(TV_series)', 'Listen_Up!_(TV_series)', 'Little_Britain_USA', 'Little_House_on_the_Prairie_(TV_series)', 'Little_Men_(TV_series)', 'The_Little_Mermaid_(TV_series)', 'Little_Robots', 'The_Littles', 'Littlest_Pet_Shop_(2012_TV_series)', 'Live_Shot', 'Living_Dolls', 'Living_Single', 'Living_with_Fran', 'Lizzie_McGuire', 'The_Lloyd_Bridges_Show', 'Logan%27s_Run_(TV_series)', 'Lois_%26_Clark:_The_New_Adventures_of_Superman', 'The_Lone_Gunmen_(TV_series)', 'The_Lone_Ranger_(TV_series)', 'The_Lone_Ranger_(animated_TV_series)', 'Lone_Star_(TV_series)', 'Longmire_(TV_series)', 'Longstreet_(TV_series)', 'The_Loop_(U.S._TV_series)', 'Lopez_Tonight', 'The_Loretta_Young_Show', 'Lost_(TV_series)', 'Lost_at_Home', 'Lost_in_Space', 'Lotsa_Luck', 'Lou_Grant_(TV_series)', 'Louie_(TV_series)', 'Louie_Anderson#Television', 'Love,_American_Style', 'Love_and_Marriage_(1959_TV_series)', 'Love_and_Marriage_(1996_TV_series)', 'Love_%26_War_(TV_series)', 'The_Love_Boat', 'The_Love_Boat:_The_Next_Wave', 'Love_Connection', 'Love,_Inc._(TV_series)', 'Love_Is_a_Many_Splendored_Thing_(TV_series)', 'Lovejoy', 'Love_Monkey', 'Love_on_a_Rooftop', 'Love,_Sidney', 'Love_Story_(DuMont_TV_series)', 'Love_Story_(1973_TV_series)', 'Love_That_Bob', 'Love_Thy_Neighbour#American_remake', 'Loves_Me,_Loves_Me_Not_(TV_series)', 'Loving_(TV_series)', 'Lucan_(TV_series)', 'Lucas_Tanner', 'Lucky_(TV_series)', 'The_Lucy%E2%80%93Desi_Comedy_Hour', 'The_Lucy_Show', 'Luis_(TV_series)', 'Lush_Life_(TV_series)', 'The_Lyon%27s_Den', 'M_Squad', 'MacGruder_and_Loud', 'MacGyver', 'Mack_%26_Myer_for_Hire', 'MAD_(TV_series)', 'Mad_About_You', 'Mad_Love_(TV_series)', 'Mad_Men', 'Madam_Secretary_(TV_series)', 'Made_(TV_series)', 'Madigan_Men', 'Madman_of_the_People', 'MADtv', 'Maggie_(1998_TV_series)', 'Maggie_Winters', 'The_Magic_Clown', 'The_Magic_Garden_(TV_series)', 'The_Magician_(U.S._TV_series)', 'The_Magnificent_Seven_(TV_series)', 'Magnum,_P.I.', 'Major_Dad', 'Make_It_or_Break_It', 'Make_Room_for_Daddy', 'The_Danny_Thomas_Show#Sequel', 'Make_Way_for_Noddy', 'Making_the_Band', 'Making_the_Grade_(TV_series)', 'Malcolm_%26_Eddie', 'Malcolm_in_the_Middle', 'Malibu,_CA_(TV_series)', 'Malibu_Shores', 'Mama%27s_Family', 'The_Man_and_the_City', 'A_Man_Called_Hawk', 'A_Man_Called_Shenandoah', 'A_Man_Called_Sloane', 'Man_from_Atlantis', 'The_Man_from_U.N.C.L.E.', 'James_Garner#1990.27s', 'The_Man_Show', 'Man_with_a_Camera', 'Mancuso,_F.B.I.', 'Manhattan,_AZ', 'The_Manhunter', 'Manimal', 'Mann_%26_Machine', 'Mannix', 'M.A.N.T.I.S.', 'The_Many_Loves_of_Dobie_Gillis', 'Marcus_Welby,_M.D.', 'Marker_(TV_series)', 'The_Marriage_Ref_(U.S._TV_series)', 'Married_People', 'Married_to_the_Kellys', 'Married..._with_Children', 'The_Marshal', 'The_Martha_Stewart_Show', 'Martial_Law_(TV_series)', 'Martin_(TV_series)', 'Martin_Short#Television', 'Martin_Short#Television', 'Mary_(1978_TV_series)', 'Mary_(1985_TV_series)', 'Mary_Hartman,_Mary_Hartman', 'Mary_Kay_and_Johnny', 'The_Mary_Tyler_Moore_Hour', 'The_Mary_Tyler_Moore_Show', 'Marry_Me_(U.S._TV_series)', 'M*A*S*H_(TV_series)', 'The_Mask:_The_Animated_Series', 'Masked_Rider_(TV_series)', 'The_Master_(TV_series)', 'Masterpiece_(TV_series)', 'Matlock_(TV_series)', 'Matt_Helm_(TV_series)', 'Matt_Houston', 'Matt_Lincoln', 'Maude_(TV_series)', 'Maury_(TV_series)', 'Maverick_(TV_series)', 'Max_Headroom_(TV_series)', 'Max_Steel_(2000_TV_series)', 'Maximum_Bob', 'Maybe_It%27s_Me_(TV_series)', 'Maybe_This_Time', 'Mayberry_R.F.D.', 'McBride_(TV_series)', 'The_McCarthys', 'McClain%27s_Law', 'McCloud_(TV_series)', 'McCoy_(TV_series)', 'McHale%27s_Navy', 'McKenna_(TV_series)', 'The_McLaughlin_Group', 'McMillan_%26_Wife', 'MDs_(TV_series)', 'Me_and_the_Boys_(TV_series)', 'Medical_Center_(TV_series)', 'Medical_Investigation', 'Medical_Story', 'Medium_(TV_series)', 'Meego_(TV_series)', 'Meet_the_Browns_(TV_series)', 'Meet_My_Folks', 'Meet_the_Press', 'Melissa_%26_Joey', 'Melrose_Place', 'Melrose_Place_(2009_TV_series)', 'Memphis_Beat', 'Men_Behaving_Badly_(U.S._TV_series)', 'Men_in_Trees', 'Men_into_Space', 'Men_of_a_Certain_Age', 'Men,_Women_%26_Dogs', 'Mental_(TV_series)', 'The_Mentalist', 'Mercy_(TV_series)', 'Mercy_Point', 'The_Merv_Griffin_Show', 'Method_%26_Red', 'Miami_Medical', 'Miami_Vice', 'Michael_Hayes_(TV_series)', 'The_Michael_Richards_Show', 'Michael_Shayne#Television', 'The_Mickey_Mouse_Club', 'Mickey_Mouse_Clubhouse', 'Mickey_Mouse_Works', 'Mickey_Spillane%27s_Mike_Hammer#Mickey_Spillane.27s_Mike_Hammer_.28Darren_McGavin.29', 'Mickey_Spillane%27s_Mike_Hammer#Mickey_Spillane.27s_Mike_Hammer_.28Stacy_Keach.29', 'The_Middle_(TV_series)', 'Midnight_Caller', 'The_Midnight_Special_(TV_series)', 'The_Mighty_Heroes', 'Mighty_Max_(TV_series)', 'Mighty_Morphin_Alien_Rangers', 'Mighty_Morphin_Power_Rangers', 'Mighty_Mouse:_The_New_Adventures', 'Mike_%26_Molly', 'The_Mike_Douglas_Show', 'Mike_Hammer,_Private_Eye', 'The_Mike_O%27Malley_Show', 'Millennium_(TV_series)', 'The_Millers', 'Million_Dollar_Money_Drop', 'The_Mind_of_the_Married_Man', 'Mind_of_Mencia', 'The_Mindy_Project', 'The_Minor_Accomplishments_of_Jackie_Woodman', 'Minor_Adjustments', 'Mira_Quien_Baila_(U.S.)', 'Miracles_(TV_series)', 'The_Misadventures_of_Sheriff_Lobo', 'Misfits_of_Science', 'Miss_Guided', 'Miss_Match', 'Missing_(2012_TV_series)', 'Mission_Hill', 'Mission:_Impossible', 'Mission:_Impossible_(1988_TV_series)', 'Ralph_Waite#Television', 'Mr._%26_Mrs._Smith_(TV_series)', 'Mr._Belvedere', 'Mister_Ed', 'Mr._Lucky_(TV_series)', 'Mr._Magoo#Magoo_on_television', 'The_Mr._Men_Show', 'Mr._Merlin', 'Mister_Peepers', 'Mr._Rhodes', 'Mr._Robot_(TV_series)', 'Mister_Rogers%27_Neighborhood', 'Mr._Show', 'Mr._Smith_(TV_series)', 'Mr._Smith_Goes_to_Washington_(TV_series)', 'Mister_Sterling', 'Mr._Sunshine_(2011_TV_series)', 'Mr._T_and_Tina', 'Mister_Terrific_(TV_series)', 'Mobile_One_(TV_series)', 'The_Mod_Squad', 'Models_Inc.', 'Modern_Family', 'Modern_Marvels', 'Modern_Men', 'Moesha', 'The_Mole_(U.S._TV_series)', 'Moloney_(TV_series)', 'The_Mommies_(TV_series)', 'Monarch_Cove', 'Monday_Night_Football', 'Monk_(TV_series)', 'The_Monkees_(TV_series)', 'The_Monroes_(1966_TV_series)', 'The_Monroes_(1995_TV_series)', 'Monster_Squad', 'Monsters_(TV_series)', 'The_Montefuscos', 'The_Montel_Williams_Show', 'Monty_(TV_series)', 'Moon_Over_Miami_(TV_series)', 'Moonlight_(TV_series)', 'Moonlighting_(TV_series)', 'More_to_Love', 'Mork_%26_Mindy', 'Morning_Joe', 'Mortal_Kombat:_Conquest', 'The_Most_Deadly_Game', 'Most_Evil', 'The_Mothers-in-Law', 'The_Mountain_(TV_series)', 'Movin%27_On_(TV_series)', 'Mrs._Columbo#Spin-off', 'MTV_Cribs', 'Jennifer_Aniston#Television', 'The_Mullets_(TV_series)', 'The_Munsters', 'The_Munsters_Today', 'The_Muppet_Show', 'Muppets_Tonight', 'Murder_101_(TV_film_series)', 'Murder_in_Small_Town_X', 'Murder_One_(TV_series)', 'Murder,_She_Wrote', 'Murphy_Brown', 'Murphy%27s_Law_(American_TV_series)', 'Muscle_(TV_series)', 'Uncle_Croc%27s_Block#Cartoon_Segments', 'The_Music_Scene_(TV_series)', 'Mutant_X_(TV_series)', 'My_Antonio', 'My_Big_Fat_Greek_Life', 'My_Big_Fat_Obnoxious_Fiance', 'My_Boys', 'My_Fair_Brady', 'My_Favorite_Martian', 'My_Generation_(TV_series)', 'My_Life_as_a_Teenage_Robot', 'My_Little_Pony:_Friendship_is_Magic', 'My_Living_Doll', 'My_Mother_the_Car', 'My_Name_Is_Earl', 'My_Own_Worst_Enemy_(TV_series)', 'My_Secret_Identity', 'My_Sister_Sam', 'My_So-Called_Life', 'My_Super_Sweet_16', 'My_Three_Sons', 'My_Two_Dads', 'My_Wife_and_Kids', 'My_World_and_Welcome_to_It', 'M.Y.O.B._(TV_series)', 'Mystery!', 'Mystery_Science_Theater_3000', 'Mystery_Woman', 'MythBusters', 'The_Naked_Brothers_Band_(TV_series)', 'Naked_City_(TV_series)', 'The_Naked_Truth_(TV_series)', 'Nakia_(TV_series)', 'The_Name_of_the_Game_(TV_series)', 'Name_That_Tune', 'Nancy_(TV_series)', 'The_Nancy_Walker_Show', 'The_Nanny_(TV_series)', 'Nanny_911', 'Nanny_and_the_Professor', 'Nash_Bridges', 'Nashville_(2007_TV_series)', 'Nashville_(2012_TV_series)', 'Nashville_Star', 'The_Nat_King_Cole_Show', 'NBC_Sunday_Night_Football', 'NBC_Sunday_Showcase', 'NCIS_(TV_series)', 'NCIS:_Los_Angeles', 'NCIS:_New_Orleans', 'Ned_%26_Stacey', 'Ned%27s_Declassified_School_Survival_Guide', 'Needles_and_Pins_(TV_series)', 'Nero_Wolfe_(1981_TV_series)', 'A_Nero_Wolfe_Mystery', 'The_Net_(TV_series)', 'Adam-12_(1990_series)', 'The_New_Addams_Family', 'The_New_Adventures_of_Batman', 'The_New_Adventures_of_Beans_Baxter', 'The_New_Adventures_of_Jonny_Quest', 'The_Tarzan/Lone_Ranger_Adventure_Hour', 'The_New_Adventures_of_Old_Christine', 'The_New_Adventures_of_Robin_Hood', 'The_New_Adventures_of_Zorro_(1981_TV_series)', 'The_New_Adventures_of_Zorro_(1997_TV_series)', 'New_Amsterdam_(TV_series)', 'The_New_Andy_Griffith_Show', 'The_New_Archie_and_Sabrina_Hour', 'The_New_Dick_Van_Dyke_Show', 'Dragnet_(series)#The_1989_series:_The_New_Dragnet', 'New_Girl_(TV_series)', 'A_New_Kind_of_Family', 'The_New_Lassie', 'The_New_Leave_It_to_Beaver', 'The_New_Loretta_Young_Show', 'The_New_Mike_Hammer', 'The_New_Odd_Couple', 'The_New_People', 'The_New_Perry_Mason', 'The_New_Scooby-Doo_Movies', 'The_New_Three_Stooges', 'The_New_WKRP_in_Cincinnati', 'New_Year%27s_Eve_with_Carson_Daly', 'New_York_News', 'New_York_Undercover', 'New_Zoo_Revue', 'Newhart', 'The_Newlywed_Game', 'Newlyweds:_Nick_and_Jessica', 'NewsRadio', 'Next_(TV_series)', 'Nichols_(TV_series)', 'The_Nick_Cannon_Show', 'Nick_Freno:_Licensed_Teacher', 'Nickelodeon_Guts', 'Night_Court', 'Night_Gallery', 'Night_Man', 'Night_Stalker_(TV_series)', 'Night_Visions_(TV_series)', 'Nightline', 'Nightmare_Cafe', 'The_Nightmare_Room', 'Nightmares_and_Dreamscapes:_From_the_Stories_of_Stephen_King', 'Nikita_(TV_series)', 'Nikki_(TV_series)', 'The_Nine_(TV_series)', 'Ninja_Turtles:_The_Next_Mutation', 'Sasuke_(TV_series)#United_States', 'Nip/Tuck', 'No_Ordinary_Family', 'Noah_Knows_Best', 'Noah%27s_Arc_(TV_series)', 'The_Norm_Show', 'Normal,_Ohio', 'North_and_South_(miniseries)', 'North_Shore_(TV_series)', 'Northern_Exposure', 'Not_Necessarily_the_News', 'Notes_from_the_Underbelly', 'Nothing_Sacred_(TV_series)', 'Nova_(TV_series)', 'Now_and_Again', 'Nowhere_Man_(TV_series)', 'Numb3rs', 'Michael_Learned#Filmography', 'Nurse_Jackie', 'Nurses_(TV_series)', 'The_Nutt_House', 'NYC_22', 'NYPD_Blue', 'The_O.C.', 'The_Oblongs', 'Ocean_Ave.', 'October_Road_(TV_series)', 'The_Odd_Couple_(1970_TV_series)', 'Odd_Man_Out_(U.S._TV_series)', 'Off_Centre', 'Off_the_Map_(TV_series)', 'Off_the_Rack_(TV_series)', 'The_Office_(U.S._TV_series)', 'Oh_Baby_(TV_series)', 'Oh,_Grow_Up', 'Oh_Madeline', 'Oh!_Those_Bells', 'Ohara_(TV_series)', 'O%27Hara,_U.S._Treasury', 'The_O%27Keefes', 'Paul_Sorvino#Filmography', 'Oliver_Beene', 'On_the_Air_(TV_series)', 'On_Our_Own_(1977_TV_series)', 'On_Our_Own_(1994_TV_series)', 'On_the_Rocks_(TV_series)', 'On_the_Spot_(TV_series)', 'Once_a_Hero', 'Once_and_Again', 'Once_Upon_a_Time_(TV_series)', 'One_Day_at_a_Time', 'One_Life_to_Live', 'One_on_One_(TV_series)', 'One_Step_Beyond_(TV_series)', 'One_Tree_Hill_(TV_series)', 'One_West_Waikiki', 'One_World_(TV_series)', 'Open_House_(TV_series)', 'Operation_Petticoat_(TV_series)', 'Opposite_Sex_(TV_series)', 'The_Oprah_Winfrey_Show', 'The_Oregon_Trail_(TV_series)', 'The_O%27Reilly_Factor', 'Orleans_(TV_series)', 'The_Osbournes', 'The_Others_(TV_series)', 'Our_Family_Honor', 'Our_House_(1986_TV_series)', 'Our_World_(TV_series)', 'Out_of_Control_(TV_series)', 'Out_of_This_World_(TV_series)', 'The_Outer_Limits_(1963_TV_series)', 'The_Outer_Limits_(1995_TV_series)', 'Outlaws_(1986_TV_series)', 'Outsourced_(TV_series)', 'Over_There', 'Oz_(TV_series)', 'Ozzie%27s_Girls', 'Paranormal_State', 'Pardon_the_Interruption', 'The_Parent_%27Hood', 'Parenthood_(1990_TV_series)', 'Parenthood_(2010_TV_series)', 'Parker_Lewis_Can%27t_Lose', 'The_Parkers', 'Parks_and_Recreation', 'The_Partridge_Family', 'Party_Down', 'Party_Down_South', 'Party_of_Five', 'Passions', 'The_Patty_Duke_Show', 'The_Paul_Lynde_Show', 'Paul_Sand_in_Friends_and_Lovers', 'PBS_NewsHour', 'Pee-wee%27s_Playhouse', 'Penn_%26_Teller:_Bullshit!', 'Penn_%26_Teller:_Fool_Us', 'Penny_Dreadful_(TV_series)', 'The_People%27s_Court', 'Perfect_Strangers_(U.S._TV_series)', 'Perry_Mason_(TV_series)', 'Person_of_Interest_(TV_series)', 'Peter_Gunn', 'Petticoat_Junction', 'Peyton_Place_(TV_series)', 'Phil_of_the_Future', 'The_Phil_Silvers_Show', 'Phineas_and_Ferb', 'Picket_Fences', 'Planet_Sheen', 'Platypus_Man', 'Playing_It_Straight', 'Playmakers', 'Police_Squad!', 'Police_Story_(1973_TV_series)', 'Police_Woman_(TV_series)', 'Ponderosa_(TV_series)', 'Postcards_from_Buster', 'Power_Rangers_Dino_Charge', 'Power_Rangers_Dino_Thunder', 'Power_Rangers_Jungle_Fury', 'Power_Rangers_in_Space', 'Power_Rangers_Lightspeed_Rescue', 'Power_Rangers_Lost_Galaxy', 'Power_Rangers_Megaforce', 'Power_Rangers_Mystic_Force', 'Power_Rangers_Ninja_Storm', 'Power_Rangers_Operation_Overdrive', 'Power_Rangers_RPM', 'Power_Rangers_Samurai', 'Power_Rangers_SPD', 'Power_Rangers_Time_Force', 'Power_Rangers_Turbo', 'Power_Rangers_Wild_Force', 'Power_Rangers_Zeo', 'Powerhouse_(TV_series)', 'The_Practice_(1976_TV_series)', 'The_Practice', 'Press_Your_Luck', 'The_Pretender_(TV_series)', 'Pretty_Little_Liars_(TV_series)', 'The_Price_Is_Right_(1956_U.S._game_show)', 'The_Price_Is_Right_(U.S._game_show)', 'Prison_Break', 'Private_Practice_(TV_series)', 'Project_UFO', 'Psych', 'The_Psychiatrist_(TV_series)', 'Psychic_Kids', 'Punky_Brewster', 'Pushing_Daisies', 'The_Puzzle_Place', 'Quantum_Leap_(TV_series)', 'Quark_(TV_series)', 'Queen_for_a_Day', 'Queen_of_Swords_(TV_series)', 'Queer_as_Folk_(2000_TV_series)', 'Queer_Eye', 'The_Quick_Draw_McGraw_Show', 'Quincy,_M.E.', 'Quinn_Martin%27s_Tales_of_the_Unexpected', 'Raising_Hope', 'Rambo:_The_Force_of_Freedom', 'Ramsay%27s_Kitchen_Nightmares', 'Randy_Cunningham:_9th_Grade_Ninja', 'Rango_(TV_series)', 'Rawhide_(TV_series)', 'Ray_Donovan', 'The_Real_Housewives_of_Atlanta', 'The_Real_Housewives_of_Beverly_Hills', 'The_Real_Housewives_of_D.C.', 'The_Real_Housewives_of_Miami', 'The_Real_Housewives_of_New_Jersey', 'The_Real_Housewives_of_New_York_City', 'The_Real_Housewives_of_Orange_County', 'The_Real_Housewives_of_Potomac', 'The_Real_World', 'Real_World/Road_Rules_Challenge', 'Reaper_(TV_series)', 'Reba_(TV_series)', 'Recess_(TV_series)', 'The_Red_Skelton_Show', 'Regular_Show', 'Reign_(2013_TV_series)', 'Related', 'The_Ren_%26_Stimpy_Show', 'Renegade_(TV_series)', 'Reno_911!', 'Rescue_911', 'Rescue_Me_(U.S._TV_series)', 'Resurrection_(U.S._TV_series)', 'Retired_at_35', 'Reunion_(TV_series)', 'Revenge_(TV_series)', 'Revolution_(TV_series)', 'Rhoda', 'Ricki_Lake_(talk_show)', 'The_Rifleman', 'Ringer_(TV_series)', 'Rizzoli_and_Isles', 'Roadtrip_Nation', 'Roary_the_Racing_Car', 'Robot_Chicken', 'Roc_(TV_series)', 'The_Rocky_and_Bullwinkle_Show', 'Rocket_Power', 'The_Rookie_(web_series)', 'Rookie_Blue', 'The_Rookies', 'Room_222', 'Roseanne_(TV_series)', 'Roseanne%27s_Nuts', 'Roswell_(TV_series)', 'Route_66_(TV_series)', 'Rowan_%26_Martin%27s_Laugh-In', 'Royal_Pains', 'Rugrats', 'Rules_of_Engagement_(TV_series)', 'Running_Wilde', 'S%C3%A1bado_Gigante', 'Sabrina,_the_Teenage_Witch_(TV_series)', 'St._Elsewhere', 'Salute_Your_Shorts', 'Salvage_One', 'Samurai_Jack', 'The_San_Pedro_Beach_Bums', 'Sanctuary_(TV_series)', 'Sanford_and_Son', 'Santa_Barbara_(TV_series)', 'Sara_(U.S._1976_TV_series)', 'The_Sarah_Silverman_Program', 'Saturday_Night_Live', 'Saved_by_the_Bell', 'Saving_Grace_(TV_series)', 'School_Pride', 'The_Scooby-Doo_Show', 'Scooby-Doo,_Where_Are_You!', 'Scorpion_(TV_series)', 'Scrabble_(game_show)', 'Scrabble_Showdown', 'Scrubs_(TV_series)', 'Sea_Hunt', 'Sealab_2020', 'Sealab_2021', 'SeaQuest_DSV', 'Second_Chance_(1987_TV_series)', 'The_Secret_Adventures_of_Jules_Verne', 'The_Secret_Circle_(TV_series)', 'The_Secret_Life_of_the_American_Teenager', 'Secret_Millionaire', 'The_Secret_Storm', 'The_Secret_World_of_Alex_Mack', 'The_Secrets_of_Isis', 'Seinfeld', 'Sense_and_Nonsense', 'Sesame_Street', 'Seven_Days_(TV_series)', 'Sex_and_the_City', 'Shake_It_Up_(TV_series)', 'Shameless_(U.S._TV_series)', 'She_Spies', 'Shark_(TV_series)', 'Shear_Genius', 'She%27s_the_Sheriff', 'The_Shield', 'Shindig!', 'Shorties_Watchin%27_Shorties', 'The_Sifl_and_Olly_Show', 'The_Silent_Force_(TV_series)', 'Silicon_Valley_(TV_series)', 'Silver_Spoons', 'Simon_%26_Simon', 'The_Simple_Life', 'The_Simpsons', 'The_Sing-Off', 'Sirota%27s_Court', 'Sisters_(TV_series)', 'Six_Feet_Under_(TV_series)', 'The_Six_Million_Dollar_Man', 'The_Sixth_Sense_(TV_series)', 'Skating_with_the_Stars', 'Skins_(2011_TV_series)', 'The_Slap_Maxwell_Story', 'Sledge_Hammer!', 'Sleeper_Cell_(TV_series)', 'Sliders', 'Small_Wonder_(TV_series)', 'Smallville', 'Smith_(TV_series)', 'The_Smothers_Brothers_Comedy_Hour', 'The_Smurfs_(1981_TV_series)', 'Snooki_%26_JWoww', 'So_Weird', 'So_You_Think_You_Can_Dance_(United_States)', 'Soap_(TV_series)', 'Sofia_the_First', 'Sonic_the_Hedgehog_(TV_Series)', 'Sonic_Underground', 'Sonic_X', 'Sons_of_Anarchy', 'Sons_of_Guns', 'Sons_of_Tucson', 'The_Sopranos', 'South_of_Nowhere', 'South_Park', 'Southland_(TV_series)', 'Space:_Above_and_Beyond', 'Space_Cases', 'Space_Ghost_Coast_to_Coast', 'Space_Patrol_(1962_TV_series)', 'Space_Precinct', 'Space_Rangers_(TV_series)', 'Spartacus_(miniseries)', 'Spider-Man_(1967_TV_series)', 'Spider-Man_and_His_Amazing_Friends', 'Spin_City', 'SpongeBob_SquarePants', 'Sports_Night', 'SportsCenter', 'Stalker_(TV_series)', 'Stanley_(2001_TV_series)', 'Star_Trek:_The_Original_Series', 'Star_Trek:_The_Animated_Series', 'Star_Trek:_Deep_Space_Nine', 'Star_Trek:_Enterprise', 'Star_Trek:_The_Next_Generation', 'Star_Trek:_Voyager', 'Star_Wars:_Clone_Wars_(2003_TV_series)', 'Star_Wars:_The_Clone_Wars_(2008_TV_series)', 'Star-Crossed_(TV_series)', 'Stargate_Atlantis', 'Stargate_SG-1', 'Stargate_Universe', 'Starsky_%26_Hutch', 'State_of_Georgia_(TV_series)', 'Static_Shock', 'Step_by_Step_(TV_series)', 'The_Steve_Harvey_Show_(2012_TV_series)', 'Stingray_(NBC_TV_series)', 'Stranger_Things_(TV_series)', 'The_Streets_of_San_Francisco', 'Sugarfoot', 'The_Suite_Life_of_Zack_%26_Cody', 'The_Suite_Life_on_Deck', 'Suits_(TV_Series)', 'Summerland_(TV_series)', 'Sunset_Beach_(TV_series)', 'The_Super_(TV_series)', 'Super_Circus', 'Super_Friends', 'The_Super_Mario_Bros._Super_Show!', 'Super_Mario_World_(TV_series)', 'Supernatural_(U.S._TV_series)', 'Supertrain', 'Surface_(TV_series)', 'Surfside_6', 'The_Surreal_Life', 'Survivor_(U.S._TV_series)', 'S.W.A.T._(TV_series)', 'Switch_(TV_series)', 'Switched_at_Birth_(TV_series)', 'Tabitha_(TV_series)', 'Tales_from_the_Crypt_(TV_series)', 'Tales_from_the_Neverending_Story', 'Tales_of_Tomorrow', 'Talk_Soup', 'Taxi_(TV_series)', 'Team_Umizoomi', 'The_Ted_Knight_Show_(1978_TV_series)', 'Teen_Wolf_(2011_TV_Series)', 'Too_Close_For_Comfort', 'The_Television_Ghost', 'Tenacious_D_(TV_series)', 'Terminator:_The_Sarah_Connor_Chronicles', 'Terra_Nova_(TV_series)', 'Terriers_(TV_series)', 'Texas_(TV_series)', 'Texas_Country_Reporter', 'The_Texas_Wheelers', 'T.H.E._Cat', 'That_%2770s_Show', 'That_%2780s_Show', 'That_Girl', 'That%27s_My_Mama', 'That%27s_So_Raven', 'That_Was_Then', 'Thief_(TV_miniseries)', 'THINGAMABOB', 'Thirtysomething_(TV_series)', 'This_Week_(ABC_TV_series)', 'Thomas_and_Friends', 'Three%27s_Company', 'Three%27s_a_Crowd', 'Threshold_(TV_series)', 'The_Tim_Conway_Comedy_Hour', 'The_Tim_Conway_Show_(1970_TV_series)', 'The_Tim_Conway_Show_(1980_TV_series)', 'The_Time_Tunnel', 'Tim_Conway%27s_Funny_America', 'Time_Trax', 'To_Rome_with_Love_(TV_series)', 'Today_(U.S._TV_program)', 'Toma_(TV_series)', 'The_Tonight_Show_with_Jay_Leno', 'Too_Close_For_Comfort', 'Topper_(TV_series)', 'The_Torkelsons', 'Total_Request_Live', 'Totally_Spies!', 'Touch_(TV_series)', 'A_Touch_of_Grace', 'Touched_by_an_Angel', 'Tour_of_Duty_(TV_series)', 'Traffic_Light_(TV_series)', 'Trapper_John,_M.D.', 'Trauma_(TV_series)', 'Tru_Calling', 'True_Beauty_(TV_series)', 'True_Blood', 'True_Detective_(TV_series)', 'True_Jackson,_VP', 'The_Twilight_Zone_(1959_TV_series)', 'Twin_Peaks', 'Two_and_a_Half_Men', 'Two_Guys_and_a_Girl', 'Two_of_a_Kind_(U.S._TV_series)', 'The_Tyra_Banks_Show', 'UFO_Hunters_(The_History_Channel)', 'UFO_Hunters_(Sci_Fi_Channel)', 'Ugly_Betty', 'Kinniku_Banzuke', 'Undercover_Boss_(U.S._TV_series)', 'Underdog_(TV_series)', 'Under_the_Dome_(TV_series)', 'Undergrads', 'Unfabulous', 'Unhappily_Ever_After', 'The_Unit', 'United_States_of_Tara', 'Unsolved_Mysteries', 'The_Unusuals', 'Unwrapped', 'USA_High', 'V_(2009_TV_series)', 'V_(1984_TV_series)', 'The_Vampire_Diaries', 'Vega$', 'Vegas_(TV_series)', 'Veronica_Mars', 'Veronica%27s_Closet', 'VH1_ILL-ustrated', 'Victorious', 'The_View_(U.S._TV_series)', 'Vikings_(TV_series)', 'Top_of_the_Heap', 'V.I.P._(TV_series)', 'Viva_Valdez', 'The_Voice_(U.S._TV_series)', 'Voyagers!', 'VR.5', 'Wagon_Train', 'Wake_Up_with_Al', 'Walker,_Texas_Ranger', 'The_Walking_Dead_(TV_series)', 'Walt_Disney_anthology_television_series', 'The_Waltons', 'The_Wanda_Sykes_Show', 'Warehouse_13', 'Way_Out_(TV_series)', 'Webster_(TV_series)', 'Weeds_(TV_series)', 'The_Weekenders', 'Welcome_Back,_Kotter', 'Welcome_to_The_Captain', 'The_West_Wing', 'Whammy!_The_All-New_Press_Your_Luck', 'What_I_Like_About_You_(TV_series)', 'What%27s_Happening!!', 'What%27s_Happening_Now!!', 'What%27s_Up!_Que_Pasa', 'Wheel_of_Fortune_(U.S._game_show)', 'White_Collar_(TV_series)', 'The_White_Shadow_(TV_series)', 'Who_Wants_to_Be_a_Millionaire_(US_game_show)', 'The_Whole_Truth_(TV_series)', 'Who%27s_the_Boss%3F', 'Wild_Kratts', 'Wildside_(U.S._TV_series)', 'Will_%26_Grace', 'Winx_Club', 'Wipeout_(1988_US_game_show)', 'Wipeout_(2008_U.S._game_show)', 'The_Wire', 'Wiseguy_(TV_series)', 'W.I.T.C.H.', 'Without_a_Trace', 'Wizards_of_Waverly_Place', 'WKRP_in_Cincinnati', 'Women%27s_Murder_Club_(TV_series)', 'Wonder_Pets!', 'Wonder_Woman_(TV_series)', 'The_Wonder_Years', 'Wonderama', 'Wonderfalls', 'Wow!_Wow!_Wubbzy!', 'WWE_Raw', 'WWE_SmackDown', 'The_X_Factor_(U.S.)', 'The_X-Files', 'X-Men_(TV_series)', 'X-Men:_Evolution', 'X-Play', 'Xena:_Warrior_Princess', 'Xuxa_(TV_series)', 'Yancy_Derringer', 'Yes,_Dear', 'Yin_Yang_Yo!', 'Yo_Gabba_Gabba!', 'Yo_Momma_(TV_series)', 'The_Yogi_Bear_Show', 'Yogi%27s_Gang', 'You_Again%3F', 'You_Are_There_(series)', 'You_Asked_for_It', 'You_Bet_Your_Life', 'You_Wish_(TV_series)', 'Young_Americans_(TV_series)', 'The_Young_and_the_Restless', 'Young_Blades', 'Young_Hercules', 'The_Young_Indiana_Jones_Chronicles', 'Young_Justice_(TV_series)', 'The_Young_Riders', 'Young_Robin_Hood', 'Your_Hit_Parade', 'Your_Show_of_Shows', 'Zane_Grey_Theater', 'Zeke_and_Luther'], 'genre': [['Sitcom'], ['Game show'], ['Game show'], ['Game show'], 'None'], 'network': [['CBS'], ['CBS'], ['CBS'], ['NBC', 'GSN'], ['HBO']], 'running_time': ['21', '22', '22', '41', '25']}\n"
     ]
    }
   ],
   "source": [
    "print(DATABASE)"
   ]
  },
  {
   "cell_type": "code",
   "execution_count": 94,
   "metadata": {
    "collapsed": false
   },
   "outputs": [
    {
     "name": "stdout",
     "output_type": "stream",
     "text": [
      "names = 123adsflkja\n"
     ]
    }
   ],
   "source": [
    "namesp = '123adsflkja'\n",
    "print('names =', namesp)"
   ]
  },
  {
   "cell_type": "code",
   "execution_count": 95,
   "metadata": {
    "collapsed": false
   },
   "outputs": [
    {
     "data": {
      "text/plain": [
       "'1'"
      ]
     },
     "execution_count": 95,
     "metadata": {},
     "output_type": "execute_result"
    }
   ],
   "source": [
    "namesp[0] "
   ]
  },
  {
   "cell_type": "code",
   "execution_count": 15,
   "metadata": {
    "collapsed": false
   },
   "outputs": [
    {
     "data": {
      "text/plain": [
       "'12'"
      ]
     },
     "execution_count": 15,
     "metadata": {},
     "output_type": "execute_result"
    }
   ],
   "source": [
    "namesp[0:2]"
   ]
  },
  {
   "cell_type": "code",
   "execution_count": null,
   "metadata": {
    "collapsed": true
   },
   "outputs": [],
   "source": []
  }
 ],
 "metadata": {
  "kernelspec": {
   "display_name": "Python 3",
   "language": "python",
   "name": "python3"
  },
  "language_info": {
   "codemirror_mode": {
    "name": "ipython",
    "version": 3
   },
   "file_extension": ".py",
   "mimetype": "text/x-python",
   "name": "python",
   "nbconvert_exporter": "python",
   "pygments_lexer": "ipython3",
   "version": "3.5.2"
  }
 },
 "nbformat": 4,
 "nbformat_minor": 0
}
