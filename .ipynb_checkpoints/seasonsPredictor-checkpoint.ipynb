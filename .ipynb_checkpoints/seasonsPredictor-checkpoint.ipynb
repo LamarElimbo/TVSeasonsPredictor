{
 "cells": [
  {
   "cell_type": "markdown",
   "metadata": {},
   "source": [
    "# Predicting TV Show Success\n",
    "\n",
    "## Notes\n",
    "- Shonda Rhimes predictive superpower\n",
    "\n",
    "- The problem statement\n",
    "    - Find out which of the IVs/combination of IVs contributes the most to a shows success\n",
    "    - Using this information after the pilot can you determine whether or not a show will be sucessful \n",
    "    - Using this information before the pilot can you determine whether or not a show will be sucessful \n",
    "\n",
    "- Possible independent variables:\n",
    "    - producers/creators\n",
    "    - network\n",
    "    - viewer ratings\n",
    "    - genre\n",
    "    - air times (frequency and time of day)\n",
    "    - actors\n",
    "    - plot key words\n",
    "    - certificate\n",
    "    - runtime\n",
    "    \n",
    "- Operational definition of TV show success?"
   ]
  },
  {
   "cell_type": "code",
   "execution_count": 88,
   "metadata": {
    "collapsed": true
   },
   "outputs": [],
   "source": [
    "TITLE=[]\n",
    "GENRE=[]\n",
    "CREATED_BY=[]\n",
    "STARRING=[]\n",
    "NETWORK=[]\n",
    "RUNNING_TIME=[]\n",
    "NUM_SEASONS=[]\n",
    "NUM_EPISODES=[]\n",
    "\n",
    "TABLE_COLUMNS = ['title', 'genre', 'created_by', 'starring', 'network', 'running_time', 'num_seasons', 'num_episodes']\n",
    "\n",
    "DATABASE = {'title':TITLE, 'genre':GENRE, 'created_by':CREATED_BY, 'starring':STARRING, 'network':NETWORK, 'running_time':RUNNING_TIME, 'num_seasons':NUM_SEASONS, 'num_episodes':NUM_EPISODES}\n",
    "\n",
    "DATA_DIR = './data'\n",
    "SYM_TABLE_NAME = 'sym_shows.csv'\n",
    "NUM_TABLE_NAME = 'num_shows.csv'\n",
    "A_TABLE_NAME = 'a_shows.csv'\n",
    "B_TABLE_NAME = 'b_shows.csv'\n",
    "C_TABLE_NAME = 'c_shows.csv'\n",
    "D_TABLE_NAME = 'd_shows.csv'\n",
    "E_TABLE_NAME = 'e_shows.csv'\n",
    "F_TABLE_NAME = 'f_shows.csv'\n",
    "G_TABLE_NAME = 'g_shows.csv'\n",
    "H_TABLE_NAME = 'h_shows.csv'\n",
    "I_TABLE_NAME = 'i_shows.csv'\n",
    "J_TABLE_NAME = 'j_shows.csv'\n",
    "K_TABLE_NAME = 'k_shows.csv'\n",
    "L_TABLE_NAME = 'l_shows.csv'\n",
    "M_TABLE_NAME = 'm_shows.csv'\n",
    "N_TABLE_NAME = 'n_shows.csv'\n",
    "O_TABLE_NAME = 'o_shows.csv'\n",
    "P_TABLE_NAME = 'p_shows.csv'\n",
    "Q_TABLE_NAME = 'q_shows.csv'\n",
    "R_TABLE_NAME = 'r_shows.csv'\n",
    "S_TABLE_NAME = 's_shows.csv'\n",
    "T_TABLE_NAME = 't_shows.csv'\n",
    "U_TABLE_NAME = 'u_shows.csv'\n",
    "V_TABLE_NAME = 'v_shows.csv'\n",
    "W_TABLE_NAME = 'w_shows.csv'\n",
    "X_TABLE_NAME = 'x_shows.csv'\n",
    "Y_TABLE_NAME = 'y_shows.csv'\n",
    "Z_TABLE_NAME = 'z_shows.csv'"
   ]
  },
  {
   "cell_type": "code",
   "execution_count": 89,
   "metadata": {
    "collapsed": false
   },
   "outputs": [],
   "source": [
    "#Collect a list of Wikipedia links to all American TV shows\n",
    "\n",
    "from bs4 import BeautifulSoup as soup\n",
    "import pandas as pd\n",
    "import re\n",
    "from urllib import request\n",
    " \n",
    "def soupTheLink(url):\n",
    "    html = request.urlopen(url).read().decode('utf8')\n",
    "    return soup(html, 'lxml')\n",
    "\n",
    "def collectLinks(url):\n",
    "    souped = soupTheLink(url)\n",
    "    \n",
    "    showLinks = []\n",
    "    \n",
    "    for listItem in souped.find_all('li'):\n",
    "        link = listItem.find('a', href = True)\n",
    "        try:\n",
    "            fullLink = 'https://en.wikipedia.org' + link['href']\n",
    "            showLinks.append(fullLink)\n",
    "        except TypeError:\n",
    "            pass\n",
    "    showLinks = showLinks[28:2282]\n",
    "    return showLinks\n",
    "\n",
    "def compileData(listOfShowLinks):\n",
    "    print(\"number of shows = \", len(listOfShowLinks))\n",
    "    count = 0\n",
    "    for url in listOfShowLinks[703:806]:\n",
    "        count += 1\n",
    "        print('show number ', count)\n",
    "        souped = soupTheLink(url)\n",
    "\n",
    "        table_num = 0\n",
    "        for table in souped.find_all(class_='infobox'):\n",
    "            table_num += 1\n",
    "            if table_num == 1:\n",
    "                has_genre = 0\n",
    "                has_created_by = 0\n",
    "                has_starring = 0\n",
    "                has_network = 0\n",
    "                has_release = 0\n",
    "                has_running_time = 0\n",
    "                has_num_seasons = 0\n",
    "                has_num_episodes = 0\n",
    "\n",
    "                for row in table.find_all('tr'):\n",
    "\n",
    "                    for category in row.find_all('th'):\n",
    "                        feature = category.contents\n",
    "\n",
    "                        if feature == ['Genre']:\n",
    "                            has_genre = 1\n",
    "\n",
    "                            rowContent = []\n",
    "\n",
    "                            for info in row.find_all('td'):\n",
    "                                for genre in info.find_all('a'):\n",
    "                                    rowContent.extend(genre.contents)\n",
    "                            print('Genre: ', rowContent)\n",
    "\n",
    "                            if rowContent == []:\n",
    "                                for info in row.find_all('td'):\n",
    "                                    rowContent.extend(info.contents)\n",
    "                                print('Genre: ', rowContent)\n",
    "\n",
    "                            DATABASE['genre'].append(rowContent)\n",
    "\n",
    "                        elif feature == ['Created by'] or feature == ['Written by'] and has_created_by == 0:\n",
    "                            has_created_by = 1\n",
    "\n",
    "                            rowContent = []\n",
    "\n",
    "                            for info in row.find_all('td'):\n",
    "                                creators = []\n",
    "\n",
    "                                for creator in info.find_all('a'):\n",
    "                                    name = str(creator.contents)\n",
    "                                    if name[2] != '[':\n",
    "                                        creators.extend(creator.contents)\n",
    "                                rowContent.extend(creators)\n",
    "                            print('Created by: ', rowContent)\n",
    "\n",
    "                            if rowContent == []:\n",
    "                                for info in row.find_all('td'):\n",
    "                                    rowContent.extend(info.contents)\n",
    "                                rowContent = rowContent[0]\n",
    "                                print('Created by: ', rowContent)\n",
    "\n",
    "                            DATABASE['created_by'].append(rowContent)\n",
    "\n",
    "                        elif feature == ['Starring']:\n",
    "                            has_starring = 1\n",
    "\n",
    "                            rowContent = []\n",
    "\n",
    "                            for info in row.find_all('td'):\n",
    "\n",
    "                                for stars in info.find_all('a'):\n",
    "                                    rowContent.extend(stars.contents)\n",
    "\n",
    "                            print('Starring: ', rowContent)\n",
    "\n",
    "                            if rowContent == []:\n",
    "                                for info in row.find_all('td'):\n",
    "                                    rowContent.extend(info.contents)\n",
    "                                rowContent = rowContent[0]\n",
    "                                print('Starring: ', rowContent)\n",
    "\n",
    "                            DATABASE['starring'].append(rowContent)\n",
    "\n",
    "                        elif feature == ['Original network']:\n",
    "                            has_network = 1\n",
    "\n",
    "                            rowContent = []\n",
    "\n",
    "                            for info in row.find_all('td'):\n",
    "                                for network in info.find_all('a'):\n",
    "                                    rowContent.extend(network.contents)\n",
    "                            print('Network: ', rowContent)\n",
    "\n",
    "                            DATABASE['network'].append(rowContent)\n",
    "\n",
    "                        elif feature == ['Running time']:\n",
    "                            has_running_time = 1\n",
    "\n",
    "                            rowContent = []\n",
    "\n",
    "                            for info in row.find_all('td'):\n",
    "                                rowContent = info.contents\n",
    "                                print('Running time: ', rowContent)\n",
    "\n",
    "                                rowContent = rowContent[0]\n",
    "                                rowContent = rowContent[0:2]\n",
    "\n",
    "                                DATABASE['running_time'].append(rowContent)\n",
    "\n",
    "                        elif feature[-1] == ' of seasons':\n",
    "                            has_num_seasons = 1\n",
    "\n",
    "                            for info in row.find_all('td'):\n",
    "                                rowContent = info.contents[0]\n",
    "                                print('Seasons: ', rowContent)\n",
    "\n",
    "                                DATABASE['num_seasons'].append(rowContent)\n",
    "\n",
    "                        elif feature[-1] == ' of episodes':\n",
    "                            has_num_episodes = 1\n",
    "\n",
    "                            for info in row.find_all('td'):\n",
    "                                rowContent = info.contents[0]\n",
    "                                print('Episodes:', rowContent)\n",
    "                                DATABASE['num_episodes'].append(rowContent)\n",
    "\n",
    "\n",
    "                        else:\n",
    "                            continue\n",
    "                    \n",
    "                if has_genre == 0:\n",
    "                    print('Genre: None')\n",
    "                    DATABASE['genre'].append(\"None\")\n",
    "                if has_created_by == 0:\n",
    "                    print('Created by: None')\n",
    "                    DATABASE['created_by'].append(\"None\")\n",
    "                if has_starring == 0:\n",
    "                    print('Starring: None')\n",
    "                    DATABASE['starring'].append(\"None\")\n",
    "                if has_network == 0:\n",
    "                    print('Network: None')\n",
    "                    DATABASE['network'].append(\"None\")\n",
    "                if has_running_time == 0:\n",
    "                    print('Running time: None')\n",
    "                    DATABASE['running_time'].append(\"None\")\n",
    "                if has_num_seasons == 0:\n",
    "                    print('Seasons: None')\n",
    "                    DATABASE['num_seasons'].append(\"None\")\n",
    "                if has_num_episodes == 0:\n",
    "                    print('Episodes: None')\n",
    "                    DATABASE['num_episodes'].append(\"None\")\n",
    "        if table_num > 0:\n",
    "            for title in souped.find_all(class_='firstHeading'):\n",
    "                for content in title.find_all('i'):\n",
    "                    showTitle = content.contents\n",
    "                    print(showTitle)\n",
    "                    DATABASE['title'].append(showTitle)"
   ]
  },
  {
   "cell_type": "code",
   "execution_count": 3,
   "metadata": {
    "collapsed": false
   },
   "outputs": [],
   "source": [
    "mainUrl = 'https://en.wikipedia.org/wiki/List_of_American_television_series'"
   ]
  },
  {
   "cell_type": "code",
   "execution_count": 4,
   "metadata": {
    "collapsed": false
   },
   "outputs": [],
   "source": [
    "links = collectLinks(mainUrl)"
   ]
  },
  {
   "cell_type": "code",
   "execution_count": 90,
   "metadata": {
    "collapsed": false,
    "scrolled": true
   },
   "outputs": [
    {
     "name": "stdout",
     "output_type": "stream",
     "text": [
      "number of shows =  2254\n",
      "show number  1\n",
      "Genre:  []\n"
     ]
    },
    {
     "ename": "UnboundLocalError",
     "evalue": "local variable 'genre' referenced before assignment",
     "output_type": "error",
     "traceback": [
      "\u001b[0;31m---------------------------------------------------------------------------\u001b[0m",
      "\u001b[0;31mUnboundLocalError\u001b[0m                         Traceback (most recent call last)",
      "\u001b[0;32m<ipython-input-90-a5f1305cc81b>\u001b[0m in \u001b[0;36m<module>\u001b[0;34m()\u001b[0m\n\u001b[0;32m----> 1\u001b[0;31m \u001b[0mcompileData\u001b[0m\u001b[0;34m(\u001b[0m\u001b[0mlinks\u001b[0m\u001b[0;34m)\u001b[0m\u001b[0;34m\u001b[0m\u001b[0m\n\u001b[0m",
      "\u001b[0;32m<ipython-input-89-eb5af5f77d09>\u001b[0m in \u001b[0;36mcompileData\u001b[0;34m(listOfShowLinks)\u001b[0m\n\u001b[1;32m     63\u001b[0m                             \u001b[0;32mif\u001b[0m \u001b[0mrowContent\u001b[0m \u001b[0;34m==\u001b[0m \u001b[0;34m[\u001b[0m\u001b[0;34m]\u001b[0m\u001b[0;34m:\u001b[0m\u001b[0;34m\u001b[0m\u001b[0m\n\u001b[1;32m     64\u001b[0m                                 \u001b[0;32mfor\u001b[0m \u001b[0minfo\u001b[0m \u001b[0;32min\u001b[0m \u001b[0mrow\u001b[0m\u001b[0;34m.\u001b[0m\u001b[0mfind_all\u001b[0m\u001b[0;34m(\u001b[0m\u001b[0;34m'td'\u001b[0m\u001b[0;34m)\u001b[0m\u001b[0;34m:\u001b[0m\u001b[0;34m\u001b[0m\u001b[0m\n\u001b[0;32m---> 65\u001b[0;31m                                     \u001b[0mrowContent\u001b[0m\u001b[0;34m.\u001b[0m\u001b[0mextend\u001b[0m\u001b[0;34m(\u001b[0m\u001b[0mgenre\u001b[0m\u001b[0;34m.\u001b[0m\u001b[0mcontents\u001b[0m\u001b[0;34m)\u001b[0m\u001b[0;34m\u001b[0m\u001b[0m\n\u001b[0m\u001b[1;32m     66\u001b[0m                                 \u001b[0mprint\u001b[0m\u001b[0;34m(\u001b[0m\u001b[0;34m'Genre: '\u001b[0m\u001b[0;34m,\u001b[0m \u001b[0mrowContent\u001b[0m\u001b[0;34m)\u001b[0m\u001b[0;34m\u001b[0m\u001b[0m\n\u001b[1;32m     67\u001b[0m \u001b[0;34m\u001b[0m\u001b[0m\n",
      "\u001b[0;31mUnboundLocalError\u001b[0m: local variable 'genre' referenced before assignment"
     ]
    }
   ],
   "source": [
    "compileData(links)"
   ]
  },
  {
   "cell_type": "code",
   "execution_count": 86,
   "metadata": {
    "collapsed": false
   },
   "outputs": [
    {
     "name": "stdout",
     "output_type": "stream",
     "text": [
      "{'num_episodes': ['501', '90 ', '29 ', '13 ', '8 ', '83 ', '69 (132 segments) ', '1068', '13', '7,420', '112', '780', '52 (', '96 ', '18', '26 ', '109 ', '2,054 ', '18 (5 unaired)', '22 (23 with pilot)', '129 (including 6 TV movies) ', 'None', '7 (6 unaired in U.S.)', '30 ', '170 ', '86 + 19 specials ', '20', '32', '10,415 ', '96 ', '34 ', '88 ', '331 ', '22', 'None', '77 ', '66 ', '26', '65 ', '98', '22 ', '89 ', '88 ', '210 ', '8 ', '13', 'None', '26 ', '6,329 ', '54 (52 aired, 2 unaired)', '200', '54', 'None'], 'starring': ['various', ['Kyle Chandler', 'Shanésia Davis-Williams', 'Fisher Stevens', 'Kristy Swanson', 'Billie Worley', 'Myles Jeffrey'], ['Katy Mixon', 'John Hawkes', 'Andrew Daly', 'Jennifer Irwin', 'Steve Little', 'Joaquín Cosío', 'Michael Fysh'], ['Jaime Ray Newman', 'Rebecca Romijn', 'Lindsay Price', 'Paul Gross', 'Matt Dallas', 'Sara Rue', 'Ashley Benson', 'Jon Bernthal', 'Veronica Cartwright', 'Johann Urb', 'Darren Criss'], ['Laurie Metcalf', 'Jeff Hephner', 'Jay R. Ferguson', 'Katie Lowes', 'Marsha Thomason', 'Nick Searcy'], ['Tom Cavanagh', 'Julie Bowen', 'Rachel Cronin', 'Josh Randall', 'Jana Marie Hupp', 'Lesley Boone', 'Michael Ian Black', 'Justin Long', 'Daryl \"Chill\" Mitchell', 'Mike Starr'], 'None', 'None', ['Vincent Baggetta', 'Wendy Phillips', 'Ken Swofford', 'Michael Horton', 'Seven Ann McDonald'], ['Donald May', 'Ann Flood', 'Forrest Compton', 'Lois Kibbee', 'Sharon Gabet', 'Joel Crothers'], ['Dick Van Patten', 'Diana Hyland', 'Betty Buckley', 'Grant Goodeve', \"Lani O'Grady\", 'Laurie Walters', 'Susan Richardson', 'Dianne Kay', 'Connie Newton', 'Willie Aames', 'Adam Rich'], ['Morgan Freeman', 'Judy Graubart', 'Skip Hinnant', 'Rita Moreno', 'Jim Boyd', 'Lee Chamberlin', 'Bill Cosby', 'Luis Ávalos', 'Hattie Winston', 'Danny Seagren', 'June Angela', 'Irene Cara', 'Douglas Grant', 'Stephen Gustafson', 'Melanie Henderson', 'Denise Nickerson', 'Bayn Johnson', 'Gregg Burge', 'Janina Mathews', 'Réjane Magloire', 'Rodney Lewis', 'Todd Graff'], ['Priscilla Diaz', 'Jenni Barber', 'Josh Segarra', 'Ashley Austin Morris', 'Chris Sullivan', 'Coy Stewart', 'Carly Rose Sonenclar'], ['Jonny Lee Miller', 'Lucy Liu', 'Aidan Quinn', 'Jon Michael Hill', 'John Noble'], ['Rufus Sewell', 'Marley Shelton', 'Omar Benson Miller'], ['Jonny Lee Miller', 'Victor Garber', 'Natasha Henstridge', 'Loretta Devine', 'Sam Jaeger', 'Laura Benanti', 'James Saito', 'Matt Letscher', 'Julie Gonzalo', 'Jason Winston George'], ['Ellen DeGeneres', 'David Anthony Higgins', 'Clea Lewis', 'Joely Fisher', 'Jeremy Piven', 'Arye Gross', 'Holly Fulger', 'Maggie Wheeler'], 'None', ['Jim Gaffigan', 'Emily Rutherfurd', 'Martin Mull', 'Kerri Kenney', 'Cloris Leachman'], ['Jim Hutton', 'David Wayne'], ['Robert Fuller', 'Julie London', 'Bobby Troup', 'Randolph Mantooth', 'Kevin Tighe', 'Tim Donnelly', 'Mike Stoker', 'Marco Lopez', 'Michael Norell', 'Ron Pinkard'], 'Emeril Lagasse', ['Heather Graham', 'Nadia Dajani', 'James Patrick Stuart', 'Khary Payton', 'Smith Cho'], ['Terrence Howard', 'Bryshere Y. Gray', 'Jussie Smollett', 'Trai Byers', 'Grace Gealey', 'Malik Yoba', 'Kaitlin Doubleday', 'Taraji P. Henson', 'Gabourey Sidibe', \"Ta'Rhonda Jones\", 'Serayah', 'Xzibit'], ['Richard Mulligan', 'Kristy McNichol', 'Dinah Manoff', 'David Leisure', 'Park Overall', 'Paul Provenza', 'Lisa Rieffel', 'Marsha Warfield', 'Estelle Getty'], 'None', 'None', ['Dean Jones', 'Jack Mullaney', 'Harvey Lembeck', 'Jack Albertson', 'Jay C. Flippen', 'Beau Bridges', 'Robert Sorrells', 'John McGiver'], 'None', ['Kevin Connolly', 'Adrian Grenier', 'Kevin Dillon', 'Jerry Ferrara', 'Jeremy Piven', 'Debi Mazar', 'Perrey Reeves', 'Rex Lee', 'Rhys Coiro', 'Gary Cole', 'Emmanuelle Chriqui', 'Scott Caan'], ['Matt LeBlanc', 'Tamsin Greig', 'Stephen Mangan', 'John Pankow', 'Kathleen Rose Perkins', 'Mircea Monroe'], ['Edward Woodward', 'Robert Lansing', 'Keith Szarabajka'], ['Anthony Edwards', 'George Clooney', 'Sherry Stringfield', 'Noah Wyle', 'Eriq La Salle', 'Julianna Margulies', 'Gloria Reuben', 'Laura Innes', 'Maria Bello', 'Alex Kingston', 'Kellie Martin', 'Paul McCrane', 'Goran Višnjić', 'Michael Michele', 'Erik Palladino', 'Ming-Na', 'Maura Tierney', 'Sharif Atkins', 'Mekhi Phifer', 'Parminder Nagra', 'Linda Cardellini', 'Shane West', 'Scott Grimes', 'John Stamos', 'David Lyons', 'Angela Bassett'], ['Elliott Gould', 'Mary McDonnell', 'Conchata Ferrell', 'Lynne Moody', 'Shuko Akune', 'Bruce A. Young', 'Corinne Bohrer', 'Luis Avalos', 'George Clooney'], 'None', ['Colin Ferguson', 'Salli\\xa0Richardson-Whitfield', 'Joe Morton', 'Jordan Hinson', 'Ed Quinn', 'Erica Cerra', 'Neil Grayston', 'Niall Matter', 'Matt Frewer', 'Tembi Locke', 'Debrah Farentino', 'James Callis'], ['Eve', 'Jason Winston George', 'Ali Landry', 'Natalie Desselle-Reid', 'Brian Hooks', 'Sean Maguire'], ['Eve Arden', 'Allyn Joslyn', 'Frances Bavier'], ['Shia LaBeouf', 'Christy Carlson Romano', 'Nick Spano', 'Tom Virtue', 'Donna Pescow'], ['Burt Reynolds', 'Marilu Henner', 'Michael Jeter', 'Jay R. Ferguson', 'Hal Holbrook', 'Ossie Davis', 'Charles Durning', 'Elizabeth Ashley', 'Ann Wedgeworth', 'Candace Hutson'], ['Jason Ritter', 'Sarah Roemer', 'Laura Innes', 'Ian Anthony Dale', 'Scott Patterson', 'Taylor Cole', 'Lisa Vidal', 'Bill Smitrovich', 'Clifton Collins, Jr.', 'Željko Ivanek', 'Blair Underwood'], ['Treat Williams', 'Gregory Smith', 'Emily VanCamp', 'Debra Mooney', 'John Beasley', 'Vivien Cardone', 'Chris Pratt', 'Stephanie Niznik', 'Merrilyn Gann', 'Tom Amandes', 'Nora Zehetner', 'Sarah Lancaster', 'Marcia Cross', 'Scott Wolf', 'Sarah Drew', 'Anne Heche', 'Justin Baldoni'], ['Tyler James Williams', 'Terry Crews', 'Tichina Arnold', 'Tequan Richmond', 'Imani Hakim', 'Vincent Martella'], ['Ray Romano', 'Patricia Heaton', 'Brad Garrett', 'Madylin Sweeten', 'Doris Roberts', 'Peter Boyle', 'Monica Horan'], ['Rob Estes', 'Orlando Jones', 'Anita Briem', 'Martin Landau'], ['Elizabeth Reaser', 'Rachel Boston', 'Adam Rothenberg', 'Alex Breckenridge', 'Amir Talai'], 'None', ['Halle Berry', 'Goran Visnjic', 'Pierce Gagnon', 'Jeffrey Dean Morgan', 'Hiroyuki Sanada', 'Camryn Manheim', 'Grace Gummer', \"Michael O'Neill\"], 'None', 'None', ['Ty Pennington', 'Paul DiMeo', 'Alle Ghadban', 'Paige Hemmis', 'Tracy Hutson', 'Daniel Kucan', 'Tanya McQueen', 'Michael Moloney', 'Ed Sanders', 'Eduardo Xol', 'Rib Hillis', 'Didiayer Snyder', 'Leigh Anne Tuohy', 'Jillian Harris', 'Xzibit'], ['Chris Powell'], ['Judge \"Extreme Akim\" Anastopoulo', 'Tommy Habeeb', 'Kato Kaelin']], 'created_by': ['None', ['Ian Abrams'], ['Ben T. Best', 'Jody Hill', 'Danny R. McBride'], 'None', ['Diane Frolov', 'Andrew Schneider'], ['Rob Burnett', 'David Letterman'], ['Danny Antonucci'], 'None', 'None', ['Irving Vendig'], 'None', 'None', 'None', ['Robert Doherty'], ['Stephen Gallagher'], ['Greg Berlanti', 'Marc Guggenheim'], ['Neal Marlens', 'Carol Black', 'David S. Rosenthal'], ['Ellen DeGeneres'], ['Ellen DeGeneres', 'Mitchell Hurwitz', 'Carol Leifer'], ['Richard Levinson', 'William Link'], ['Robert A. Cinader', 'Harold Jack Bloom', 'Jack Webb'], ['Emeril Lagasse'], 'Carrie Gerlach', ['Lee Daniels', 'Danny Strong'], ['Susan Harris'], ['J. D. Roth'], 'None', 'None', ['Al Masini'], ['Doug Ellin'], ['David Crane', 'Jeffrey Klarik'], 'Michael Sloan', ['Michael Crichton'], ['Bruce A. Young'], 'None', ['Andrew Cosby', 'Jaime Paglia'], 'Meg DeLoatch', ['Emily Kimbrough'], ['Matt Dearborn'], ['Linda Bloodworth-Thomason'], ['Nick Wauters'], ['Greg Berlanti'], ['Chris Rock', 'Ali LeRoi'], ['Philip Rosenthal'], ['Dustin Thomason'], ['Sigal Avin'], 'None', 'Mickey Fisher', 'None', ['Howard Schultz'], 'None', 'None', ['Bob Stewart']], 'running_time': ['None', '45', '28', '39', '42', '42', '22', '48', '60', '30', '50', '28', '28', '43', '44', '45', '30', '38', '30', '45', 'ap', '60', '30', '42', '22', '24', '21', '30', '22', '21', '27', '48', '45', '22', 'None', '44', '30', '30', '22', '30', '43', '60', '30', '22', '60', '47', '22', 'None', '20', 'None', '43', 'None', '30'], 'network': [['E!'], ['CBS'], ['HBO'], ['ABC'], ['The CW'], ['NBC'], ['Cartoon Network'], ['CBS'], ['NBC'], ['CBS', 'ABC'], ['ABC'], ['PBS'], ['PBS Kids Go!', 'HBO Family'], ['CBS'], ['CBS'], ['ABC'], ['ABC'], ['Syndication', 'ITV2'], ['CBS'], ['NBC'], ['NBC'], ['Food Network', 'Fine Living'], ['ABC'], ['Fox'], ['NBC'], ['NBC', 'Discovery Kids'], [], ['NBC'], ['Syndicated'], ['HBO'], ['Showtime', 'BBC Two', 'BBC Two HD'], ['CBS'], ['NBC'], ['CBS'], ['Food Network'], ['Sci-Fi', 'Syfy'], ['UPN'], ['CBS'], ['Disney Channel'], ['CBS'], ['NBC'], ['The WB'], ['UPN', 'The CW'], ['CBS'], ['ABC'], ['CBS'], ['MTV'], ['CBS'], ['Syndicated'], ['ABC'], ['ABC'], ['ABC'], ['Syndication']], 'title': [['E! True Hollywood Story'], ['Early Edition'], ['Eastbound & Down'], ['Eastwick'], ['Easy Money'], ['Ed'], ['Ed, Edd n Eddy'], ['The Ed Sullivan Show'], ['The Eddie Capra Mysteries'], ['The Edge of Night'], ['Eight Is Enough'], ['The Electric Company'], ['The Electric Company'], ['Elementary'], ['Eleventh Hour'], ['Eli Stone'], ['Ellen'], ['The Ellen DeGeneres Show'], ['The Ellen Show'], ['Ellery Queen'], ['Emergency!'], ['Emeril Live'], [\"Emily's Reasons Why Not\"], ['Empire'], ['Empty Nest'], ['Endurance'], ['Engaged and Underage'], [\"Ensign O'Toole\"], ['Entertainment Tonight'], ['Entourage'], ['Episodes'], ['The Equalizer'], ['ER'], ['E/R'], ['Essence of Emeril'], ['Eureka'], ['Eve'], ['The Eve Arden Show'], ['Even Stevens'], ['Evening Shade'], ['The Event'], ['Everwood'], ['Everybody Hates Chris'], ['Everybody Loves Raymond'], ['The Evidence'], ['The Ex List'], ['Exposed'], ['Extant'], ['Extra'], ['Extreme Makeover'], ['Extreme Makeover: Home Edition'], ['Extreme Weight Loss'], ['Eye for an Eye']], 'genre': ['None', ['Fantasy', 'Drama'], ['Comedy', 'Sports'], ['Dramedy', 'Fantasy', 'Supernatural'], 'None', 'None', ['Comedy', 'Slapstick'], ['Variety', 'Sketch Comedy'], ['Mystery'], ['Soap opera', 'Drama', 'Crime drama', 'Mystery'], ['Comedy-drama'], 'None', 'None', ['Crime', 'drama', 'Procedural'], ['Police procedural', 'Mystery', 'Drama'], ['Musical', 'Legal', 'Comedy-drama'], 'None', ['Talk show'], 'None', 'None', 'None', 'None', 'None', ['Musical drama'], ['Sitcom'], 'None', ['Documentary'], 'None', 'None', ['Comedy-drama'], ['Sitcom'], ['Action', 'Crime', 'Drama'], ['Medical drama'], ['Medical drama'], ['Cooking show'], ['Comedy-Drama'], ['Sitcom'], ['Comedy'], 'None', 'None', ['Serial drama', 'Thriller', 'Mystery', 'Science fiction'], 'None', ['Sitcom', 'Black comedy', 'Surreal comedy'], ['Sitcom'], 'None', ['Comedy-drama'], 'None', ['Science fiction', 'Mystery', 'Drama'], ['Entertainment newsmagazine'], ['Reality Television'], ['Reality Television'], ['Reality Television'], ['nontraditional pseudo-court show']], 'num_seasons': ['17', '4', '4', '1', '1', '4', '6', '24', '1', '28', '5', '6', '3', '4', '1', '2', '5', '13', '1', '1', '6', 'None', '1', '2', '7', '6', '2', '1', '35', '8', '4', '4', '15', '1', 'None', '5', '3', '1', '3', '4', '1', '4', '4', '9', '1', '1', 'None', '2', '21', '4', '9', '5', '5']}\n"
     ]
    }
   ],
   "source": [
    "print(DATABASE)"
   ]
  },
  {
   "cell_type": "code",
   "execution_count": 87,
   "metadata": {
    "collapsed": false
   },
   "outputs": [
    {
     "name": "stdout",
     "output_type": "stream",
     "text": [
      "53\n",
      "53\n",
      "53\n",
      "53\n",
      "53\n",
      "53\n",
      "53\n",
      "53\n"
     ]
    }
   ],
   "source": [
    "print(len(TITLE))\n",
    "print(len(GENRE))\n",
    "print(len(CREATED_BY))\n",
    "print(len(STARRING))\n",
    "print(len(NETWORK))\n",
    "print(len(RUNNING_TIME))\n",
    "print(len(NUM_SEASONS))\n",
    "print(len(NUM_EPISODES))"
   ]
  },
  {
   "cell_type": "code",
   "execution_count": 27,
   "metadata": {
    "collapsed": true
   },
   "outputs": [
    {
     "ename": "ValueError",
     "evalue": "arrays must all be same length",
     "output_type": "error",
     "traceback": [
      "\u001b[0;31m---------------------------------------------------------------------------\u001b[0m",
      "\u001b[0;31mValueError\u001b[0m                                Traceback (most recent call last)",
      "\u001b[0;32m<ipython-input-27-f79e7f824387>\u001b[0m in \u001b[0;36m<module>\u001b[0;34m()\u001b[0m\n\u001b[0;32m----> 1\u001b[0;31m \u001b[0mdf\u001b[0m \u001b[0;34m=\u001b[0m \u001b[0mpd\u001b[0m\u001b[0;34m.\u001b[0m\u001b[0mDataFrame\u001b[0m\u001b[0;34m(\u001b[0m\u001b[0mDATABASE\u001b[0m\u001b[0;34m,\u001b[0m \u001b[0mcolumns\u001b[0m \u001b[0;34m=\u001b[0m \u001b[0mTABLE_COLUMNS\u001b[0m\u001b[0;34m)\u001b[0m\u001b[0;34m\u001b[0m\u001b[0m\n\u001b[0m",
      "\u001b[0;32m//anaconda/lib/python3.5/site-packages/pandas/core/frame.py\u001b[0m in \u001b[0;36m__init__\u001b[0;34m(self, data, index, columns, dtype, copy)\u001b[0m\n\u001b[1;32m    222\u001b[0m                                  dtype=dtype, copy=copy)\n\u001b[1;32m    223\u001b[0m         \u001b[0;32melif\u001b[0m \u001b[0misinstance\u001b[0m\u001b[0;34m(\u001b[0m\u001b[0mdata\u001b[0m\u001b[0;34m,\u001b[0m \u001b[0mdict\u001b[0m\u001b[0;34m)\u001b[0m\u001b[0;34m:\u001b[0m\u001b[0;34m\u001b[0m\u001b[0m\n\u001b[0;32m--> 224\u001b[0;31m             \u001b[0mmgr\u001b[0m \u001b[0;34m=\u001b[0m \u001b[0mself\u001b[0m\u001b[0;34m.\u001b[0m\u001b[0m_init_dict\u001b[0m\u001b[0;34m(\u001b[0m\u001b[0mdata\u001b[0m\u001b[0;34m,\u001b[0m \u001b[0mindex\u001b[0m\u001b[0;34m,\u001b[0m \u001b[0mcolumns\u001b[0m\u001b[0;34m,\u001b[0m \u001b[0mdtype\u001b[0m\u001b[0;34m=\u001b[0m\u001b[0mdtype\u001b[0m\u001b[0;34m)\u001b[0m\u001b[0;34m\u001b[0m\u001b[0m\n\u001b[0m\u001b[1;32m    225\u001b[0m         \u001b[0;32melif\u001b[0m \u001b[0misinstance\u001b[0m\u001b[0;34m(\u001b[0m\u001b[0mdata\u001b[0m\u001b[0;34m,\u001b[0m \u001b[0mma\u001b[0m\u001b[0;34m.\u001b[0m\u001b[0mMaskedArray\u001b[0m\u001b[0;34m)\u001b[0m\u001b[0;34m:\u001b[0m\u001b[0;34m\u001b[0m\u001b[0m\n\u001b[1;32m    226\u001b[0m             \u001b[0;32mimport\u001b[0m \u001b[0mnumpy\u001b[0m\u001b[0;34m.\u001b[0m\u001b[0mma\u001b[0m\u001b[0;34m.\u001b[0m\u001b[0mmrecords\u001b[0m \u001b[0;32mas\u001b[0m \u001b[0mmrecords\u001b[0m\u001b[0;34m\u001b[0m\u001b[0m\n",
      "\u001b[0;32m//anaconda/lib/python3.5/site-packages/pandas/core/frame.py\u001b[0m in \u001b[0;36m_init_dict\u001b[0;34m(self, data, index, columns, dtype)\u001b[0m\n\u001b[1;32m    316\u001b[0m             \u001b[0;31m# raise ValueError if only scalars in dict\u001b[0m\u001b[0;34m\u001b[0m\u001b[0;34m\u001b[0m\u001b[0m\n\u001b[1;32m    317\u001b[0m             \u001b[0;32mif\u001b[0m \u001b[0mindex\u001b[0m \u001b[0;32mis\u001b[0m \u001b[0;32mNone\u001b[0m\u001b[0;34m:\u001b[0m\u001b[0;34m\u001b[0m\u001b[0m\n\u001b[0;32m--> 318\u001b[0;31m                 \u001b[0mextract_index\u001b[0m\u001b[0;34m(\u001b[0m\u001b[0mlist\u001b[0m\u001b[0;34m(\u001b[0m\u001b[0mdata\u001b[0m\u001b[0;34m.\u001b[0m\u001b[0mvalues\u001b[0m\u001b[0;34m(\u001b[0m\u001b[0;34m)\u001b[0m\u001b[0;34m)\u001b[0m\u001b[0;34m)\u001b[0m\u001b[0;34m\u001b[0m\u001b[0m\n\u001b[0m\u001b[1;32m    319\u001b[0m \u001b[0;34m\u001b[0m\u001b[0m\n\u001b[1;32m    320\u001b[0m             \u001b[0;31m# prefilter if columns passed\u001b[0m\u001b[0;34m\u001b[0m\u001b[0;34m\u001b[0m\u001b[0m\n",
      "\u001b[0;32m//anaconda/lib/python3.5/site-packages/pandas/core/frame.py\u001b[0m in \u001b[0;36mextract_index\u001b[0;34m(data)\u001b[0m\n\u001b[1;32m   5277\u001b[0m             \u001b[0mlengths\u001b[0m \u001b[0;34m=\u001b[0m \u001b[0mlist\u001b[0m\u001b[0;34m(\u001b[0m\u001b[0mset\u001b[0m\u001b[0;34m(\u001b[0m\u001b[0mraw_lengths\u001b[0m\u001b[0;34m)\u001b[0m\u001b[0;34m)\u001b[0m\u001b[0;34m\u001b[0m\u001b[0m\n\u001b[1;32m   5278\u001b[0m             \u001b[0;32mif\u001b[0m \u001b[0mlen\u001b[0m\u001b[0;34m(\u001b[0m\u001b[0mlengths\u001b[0m\u001b[0;34m)\u001b[0m \u001b[0;34m>\u001b[0m \u001b[0;36m1\u001b[0m\u001b[0;34m:\u001b[0m\u001b[0;34m\u001b[0m\u001b[0m\n\u001b[0;32m-> 5279\u001b[0;31m                 \u001b[0;32mraise\u001b[0m \u001b[0mValueError\u001b[0m\u001b[0;34m(\u001b[0m\u001b[0;34m'arrays must all be same length'\u001b[0m\u001b[0;34m)\u001b[0m\u001b[0;34m\u001b[0m\u001b[0m\n\u001b[0m\u001b[1;32m   5280\u001b[0m \u001b[0;34m\u001b[0m\u001b[0m\n\u001b[1;32m   5281\u001b[0m             \u001b[0;32mif\u001b[0m \u001b[0mhave_dicts\u001b[0m\u001b[0;34m:\u001b[0m\u001b[0;34m\u001b[0m\u001b[0m\n",
      "\u001b[0;31mValueError\u001b[0m: arrays must all be same length"
     ]
    }
   ],
   "source": [
    "df = pd.DataFrame(DATABASE, columns = TABLE_COLUMNS)"
   ]
  },
  {
   "cell_type": "code",
   "execution_count": 21,
   "metadata": {
    "collapsed": true
   },
   "outputs": [
    {
     "data": {
      "text/html": [
       "<div>\n",
       "<table border=\"1\" class=\"dataframe\">\n",
       "  <thead>\n",
       "    <tr style=\"text-align: right;\">\n",
       "      <th></th>\n",
       "      <th>title</th>\n",
       "      <th>genre</th>\n",
       "      <th>created_by</th>\n",
       "      <th>starring</th>\n",
       "      <th>network</th>\n",
       "      <th>running_time</th>\n",
       "      <th>num_seasons</th>\n",
       "      <th>num_episodes</th>\n",
       "    </tr>\n",
       "  </thead>\n",
       "  <tbody>\n",
       "    <tr>\n",
       "      <th>0</th>\n",
       "      <td>$#*! My Dad Says</td>\n",
       "      <td>[Sitcom]</td>\n",
       "      <td>[David Kohan, Max Mutchnick, Justin Halpern]</td>\n",
       "      <td>[William Shatner, Jonathan Sadowski, Will Sass...</td>\n",
       "      <td>[CBS]</td>\n",
       "      <td>21</td>\n",
       "      <td>1</td>\n",
       "      <td>18</td>\n",
       "    </tr>\n",
       "    <tr>\n",
       "      <th>1</th>\n",
       "      <td>The $64,000 Question</td>\n",
       "      <td>[Game show]</td>\n",
       "      <td>[Joseph Nathan Kane]</td>\n",
       "      <td>None</td>\n",
       "      <td>[CBS]</td>\n",
       "      <td>22</td>\n",
       "      <td>4</td>\n",
       "      <td>None</td>\n",
       "    </tr>\n",
       "    <tr>\n",
       "      <th>2</th>\n",
       "      <td>The $64,000 Question</td>\n",
       "      <td>[Game show]</td>\n",
       "      <td>[Joseph Nathan Kane]</td>\n",
       "      <td>None</td>\n",
       "      <td>[CBS]</td>\n",
       "      <td>22</td>\n",
       "      <td>4</td>\n",
       "      <td>None</td>\n",
       "    </tr>\n",
       "    <tr>\n",
       "      <th>3</th>\n",
       "      <td>1 vs. 100</td>\n",
       "      <td>[Game show]</td>\n",
       "      <td>None</td>\n",
       "      <td>None</td>\n",
       "      <td>[NBC, GSN]</td>\n",
       "      <td>41</td>\n",
       "      <td>3</td>\n",
       "      <td>68</td>\n",
       "    </tr>\n",
       "    <tr>\n",
       "      <th>4</th>\n",
       "      <td>1st &amp; Ten</td>\n",
       "      <td>None</td>\n",
       "      <td>Carl Kleinschmitt</td>\n",
       "      <td>[Delta Burke, O. J. Simpson, Shannon Tweed, Jo...</td>\n",
       "      <td>[HBO]</td>\n",
       "      <td>25</td>\n",
       "      <td>6</td>\n",
       "      <td>80</td>\n",
       "    </tr>\n",
       "  </tbody>\n",
       "</table>\n",
       "</div>"
      ],
      "text/plain": [
       "                  title        genre  \\\n",
       "0      $#*! My Dad Says     [Sitcom]   \n",
       "1  The $64,000 Question  [Game show]   \n",
       "2  The $64,000 Question  [Game show]   \n",
       "3             1 vs. 100  [Game show]   \n",
       "4             1st & Ten         None   \n",
       "\n",
       "                                     created_by  \\\n",
       "0  [David Kohan, Max Mutchnick, Justin Halpern]   \n",
       "1                          [Joseph Nathan Kane]   \n",
       "2                          [Joseph Nathan Kane]   \n",
       "3                                          None   \n",
       "4                             Carl Kleinschmitt   \n",
       "\n",
       "                                            starring     network running_time  \\\n",
       "0  [William Shatner, Jonathan Sadowski, Will Sass...       [CBS]           21   \n",
       "1                                               None       [CBS]           22   \n",
       "2                                               None       [CBS]           22   \n",
       "3                                               None  [NBC, GSN]           41   \n",
       "4  [Delta Burke, O. J. Simpson, Shannon Tweed, Jo...       [HBO]           25   \n",
       "\n",
       "  num_seasons num_episodes  \n",
       "0           1          18   \n",
       "1           4         None  \n",
       "2           4         None  \n",
       "3           3           68  \n",
       "4           6           80  "
      ]
     },
     "execution_count": 21,
     "metadata": {},
     "output_type": "execute_result"
    }
   ],
   "source": [
    "df.head()"
   ]
  },
  {
   "cell_type": "code",
   "execution_count": 10,
   "metadata": {
    "collapsed": false
   },
   "outputs": [
    {
     "name": "stdout",
     "output_type": "stream",
     "text": [
      "True\n",
      "False\n"
     ]
    }
   ],
   "source": [
    "dogss = []\n",
    "print(dogss == [])\n",
    "\n",
    "dogss = ['pups']\n",
    "\n",
    "print(dogss == [])"
   ]
  },
  {
   "cell_type": "code",
   "execution_count": null,
   "metadata": {
    "collapsed": true
   },
   "outputs": [],
   "source": []
  }
 ],
 "metadata": {
  "kernelspec": {
   "display_name": "Python 3",
   "language": "python",
   "name": "python3"
  },
  "language_info": {
   "codemirror_mode": {
    "name": "ipython",
    "version": 3
   },
   "file_extension": ".py",
   "mimetype": "text/x-python",
   "name": "python",
   "nbconvert_exporter": "python",
   "pygments_lexer": "ipython3",
   "version": "3.5.2"
  }
 },
 "nbformat": 4,
 "nbformat_minor": 0
}
